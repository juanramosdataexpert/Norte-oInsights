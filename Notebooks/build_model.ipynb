{
 "cells": [
  {
   "cell_type": "markdown",
   "metadata": {},
   "source": [
    "# <span style=\"color:#0F19C9\">Contenido</span>\n",
    "\n",
    "- [Importar librerías y archivos](#importar-librerías-y-archivos)\n",
    "- [Preprocesar características](#preprocesar-características)\n",
    "- [Entrenar modelos](#entrenar-modelos)\n",
    "    - [Prueba de cordura](#prueba-de-cordura)\n",
    "    - [Regresión Lineal](#regresión-lineal)\n",
    "    - [Ridge](#ridge)\n",
    "    - [Lasso](#lasso)\n",
    "    - [Regresión de Soporte de Vectores](#regresión-de-soporte-de-vectores)\n",
    "    - [Regresión de Bosque Aleatorio](#regresión-de-bosque-aleatorio)\n",
    "    - [Regresión de Gradiente](#regresión-de-gradiente)\n",
    "- [Evaluar modelos](#evaluar-modelos)\n",
    "- [Optimizar Modelo Lasso](#optimizar-modelo-lasso)\n",
    "- [Estudiar Modelo Lasso](#estudiar-modelo-lasso)"
   ]
  },
  {
   "cell_type": "markdown",
   "metadata": {},
   "source": [
    "# <span style=\"color:#0F19C9\">Importar librerías y archivos</span>\n",
    "\n",
    "Vamos a importar las librerías para el manejo de dataframes y las correspondientes para construir modelos de Machine Learning. Decidimos no importar el archivo de Outliers para mejorar el entrenamiento del modelo."
   ]
  },
  {
   "cell_type": "code",
   "execution_count": 935,
   "metadata": {},
   "outputs": [],
   "source": [
    "# Importar librerías de manejo de dataframes y visualización\n",
    "import pandas as pd\n",
    "import numpy as np\n",
    "import matplotlib.pyplot as plt\n",
    "from matplotlib.colors import LinearSegmentedColormap\n",
    "\n",
    "# Importar librería de preprocesamiento\n",
    "from sklearn.preprocessing import StandardScaler\n",
    "from sklearn.model_selection import train_test_split\n",
    "from sklearn.model_selection import GridSearchCV\n",
    "\n",
    "# Importar librerías de machine learning\n",
    "from sklearn.linear_model import LinearRegression\n",
    "from sklearn.linear_model import Ridge\n",
    "from sklearn.linear_model import Lasso\n",
    "from sklearn.svm import SVR\n",
    "from sklearn.ensemble import RandomForestRegressor\n",
    "from sklearn.ensemble import GradientBoostingRegressor\n",
    "\n",
    "# Importar librería para evaluación de modelos\n",
    "from sklearn.metrics import mean_squared_error"
   ]
  },
  {
   "cell_type": "code",
   "execution_count": 936,
   "metadata": {},
   "outputs": [],
   "source": [
    "# Importar mi paleta de colores\n",
    "juan_colors = ['#101B4B', '#545E85', '#A3A8B2',\n",
    "               '#E7E7E7', '#0F19C9', '#F6D673']\n",
    "\n",
    "# Crear la paleta de colores personalizada\n",
    "colors = [juan_colors[5], juan_colors[0]]\n",
    "juan_cmap = LinearSegmentedColormap.from_list(\"custom_cmap\", colors)\n",
    "\n",
    "# Configurar la fuente de los gráficos\n",
    "plt.rc('font', family='Georgia', size=12)"
   ]
  },
  {
   "cell_type": "code",
   "execution_count": 937,
   "metadata": {},
   "outputs": [],
   "source": [
    "# Importar los archivos con las publicaciones\n",
    "mexico = pd.read_csv('../Data/Mexico.csv')\n",
    "norteno = pd.read_csv('../Data/Norteno.csv')\n",
    "popular = pd.read_csv('../Data/Popular.csv')"
   ]
  },
  {
   "cell_type": "code",
   "execution_count": 938,
   "metadata": {},
   "outputs": [],
   "source": [
    "# Concatenar los archivos\n",
    "df = pd.concat([mexico,\n",
    "                norteno,\n",
    "                popular])\n",
    "\n",
    "# Borrar dataframes temporales\n",
    "del ([mexico, norteno, popular])"
   ]
  },
  {
   "cell_type": "code",
   "execution_count": 939,
   "metadata": {},
   "outputs": [
    {
     "data": {
      "text/html": [
       "<div>\n",
       "<style scoped>\n",
       "    .dataframe tbody tr th:only-of-type {\n",
       "        vertical-align: middle;\n",
       "    }\n",
       "\n",
       "    .dataframe tbody tr th {\n",
       "        vertical-align: top;\n",
       "    }\n",
       "\n",
       "    .dataframe thead th {\n",
       "        text-align: right;\n",
       "    }\n",
       "</style>\n",
       "<table border=\"1\" class=\"dataframe\">\n",
       "  <thead>\n",
       "    <tr style=\"text-align: right;\">\n",
       "      <th></th>\n",
       "      <th>Artista</th>\n",
       "      <th>Seguidores</th>\n",
       "      <th>Tipo</th>\n",
       "      <th>Fecha y Hora</th>\n",
       "      <th>KPI</th>\n",
       "      <th>Likes</th>\n",
       "      <th>Comentarios</th>\n",
       "      <th>Caption</th>\n",
       "      <th>Palabras en Caption</th>\n",
       "      <th>Número de hashtags</th>\n",
       "      <th>Hashtags</th>\n",
       "    </tr>\n",
       "  </thead>\n",
       "  <tbody>\n",
       "    <tr>\n",
       "      <th>62</th>\n",
       "      <td>Yeison Jiménez</td>\n",
       "      <td>5000000</td>\n",
       "      <td>Foto</td>\n",
       "      <td>2024-09-10 18:43:35-05:00</td>\n",
       "      <td>0.003425</td>\n",
       "      <td>17125</td>\n",
       "      <td>164</td>\n",
       "      <td>MÉXICO 🇲🇽 \\nLlegué y fue para quedarme! 🙌🏻</td>\n",
       "      <td>8</td>\n",
       "      <td>0</td>\n",
       "      <td>[]</td>\n",
       "    </tr>\n",
       "    <tr>\n",
       "      <th>3</th>\n",
       "      <td>Los Tigres del Norte</td>\n",
       "      <td>2000000</td>\n",
       "      <td>Foto</td>\n",
       "      <td>2024-09-19 19:37:01-05:00</td>\n",
       "      <td>0.001514</td>\n",
       "      <td>3028</td>\n",
       "      <td>46</td>\n",
       "      <td>Con este #tbt de nuestro #ChileBolita les preg...</td>\n",
       "      <td>16</td>\n",
       "      <td>2</td>\n",
       "      <td>['#tbt', '#ChileBolita']</td>\n",
       "    </tr>\n",
       "    <tr>\n",
       "      <th>60</th>\n",
       "      <td>Bobby Pulido</td>\n",
       "      <td>162000</td>\n",
       "      <td>Carrusel</td>\n",
       "      <td>2024-09-07 21:54:49-05:00</td>\n",
       "      <td>0.004105</td>\n",
       "      <td>665</td>\n",
       "      <td>10</td>\n",
       "      <td>Voy desvelado 🎶🤠 @bobbypulido425 en el escenar...</td>\n",
       "      <td>18</td>\n",
       "      <td>5</td>\n",
       "      <td>['#ARRE2024', '#BandamaxEnArre', '#Festival', ...</td>\n",
       "    </tr>\n",
       "  </tbody>\n",
       "</table>\n",
       "</div>"
      ],
      "text/plain": [
       "                 Artista  Seguidores      Tipo              Fecha y Hora  \\\n",
       "62        Yeison Jiménez     5000000      Foto 2024-09-10 18:43:35-05:00   \n",
       "3   Los Tigres del Norte     2000000      Foto 2024-09-19 19:37:01-05:00   \n",
       "60          Bobby Pulido      162000  Carrusel 2024-09-07 21:54:49-05:00   \n",
       "\n",
       "         KPI  Likes  Comentarios  \\\n",
       "62  0.003425  17125          164   \n",
       "3   0.001514   3028           46   \n",
       "60  0.004105    665           10   \n",
       "\n",
       "                                              Caption  Palabras en Caption  \\\n",
       "62         MÉXICO 🇲🇽 \\nLlegué y fue para quedarme! 🙌🏻                    8   \n",
       "3   Con este #tbt de nuestro #ChileBolita les preg...                   16   \n",
       "60  Voy desvelado 🎶🤠 @bobbypulido425 en el escenar...                   18   \n",
       "\n",
       "    Número de hashtags                                           Hashtags  \n",
       "62                   0                                                 []  \n",
       "3                    2                           ['#tbt', '#ChileBolita']  \n",
       "60                   5  ['#ARRE2024', '#BandamaxEnArre', '#Festival', ...  "
      ]
     },
     "execution_count": 939,
     "metadata": {},
     "output_type": "execute_result"
    }
   ],
   "source": [
    "# Formatear la columna Fecha y Hora\n",
    "df['Fecha y Hora'] = pd.to_datetime(df['Fecha y Hora'], utc=True)\n",
    "df['Fecha y Hora'] = df['Fecha y Hora'].dt.tz_convert('America/Bogota')\n",
    "\n",
    "# Mostrar 3 registros aleatorios\n",
    "df.sample(3)"
   ]
  },
  {
   "cell_type": "code",
   "execution_count": 940,
   "metadata": {},
   "outputs": [
    {
     "name": "stdout",
     "output_type": "stream",
     "text": [
      "<class 'pandas.core.frame.DataFrame'>\n",
      "Index: 214 entries, 0 to 68\n",
      "Data columns (total 11 columns):\n",
      " #   Column               Non-Null Count  Dtype                         \n",
      "---  ------               --------------  -----                         \n",
      " 0   Artista              214 non-null    object                        \n",
      " 1   Seguidores           214 non-null    int64                         \n",
      " 2   Tipo                 214 non-null    object                        \n",
      " 3   Fecha y Hora         214 non-null    datetime64[ns, America/Bogota]\n",
      " 4   KPI                  214 non-null    float64                       \n",
      " 5   Likes                214 non-null    int64                         \n",
      " 6   Comentarios          214 non-null    int64                         \n",
      " 7   Caption              213 non-null    object                        \n",
      " 8   Palabras en Caption  214 non-null    int64                         \n",
      " 9   Número de hashtags   214 non-null    int64                         \n",
      " 10  Hashtags             214 non-null    object                        \n",
      "dtypes: datetime64[ns, America/Bogota](1), float64(1), int64(5), object(4)\n",
      "memory usage: 20.1+ KB\n"
     ]
    }
   ],
   "source": [
    "# Mostrar la información general del dataframe\n",
    "df.info()"
   ]
  },
  {
   "cell_type": "markdown",
   "metadata": {},
   "source": [
    "# <span style=\"color:#0F19C9\">Preprocesar características</span>\n",
    "\n",
    "Queremos determinar el KPI de las diferentes publicaciones, por lo que construiremos una regresión lineal basándonos en las otras características que podamos crear. La columna objetivo es `KPI`. Sin embargo, la columna `Artista`, `Seguidores`, `Likes`, `Comentarios`, `Caption` y `Hashtags` no las usaremos porque algunas de ellas no las controlamos en una estrategia de publicación y otras porque, como lo vimos en el análisis, como la columna de Comentarios, no nos aporta mayor información al modelo."
   ]
  },
  {
   "cell_type": "code",
   "execution_count": 941,
   "metadata": {},
   "outputs": [
    {
     "data": {
      "text/html": [
       "<div>\n",
       "<style scoped>\n",
       "    .dataframe tbody tr th:only-of-type {\n",
       "        vertical-align: middle;\n",
       "    }\n",
       "\n",
       "    .dataframe tbody tr th {\n",
       "        vertical-align: top;\n",
       "    }\n",
       "\n",
       "    .dataframe thead th {\n",
       "        text-align: right;\n",
       "    }\n",
       "</style>\n",
       "<table border=\"1\" class=\"dataframe\">\n",
       "  <thead>\n",
       "    <tr style=\"text-align: right;\">\n",
       "      <th></th>\n",
       "      <th>Tipo</th>\n",
       "      <th>Fecha y Hora</th>\n",
       "      <th>Palabras en Caption</th>\n",
       "      <th>Número de hashtags</th>\n",
       "      <th>KPI</th>\n",
       "    </tr>\n",
       "  </thead>\n",
       "  <tbody>\n",
       "    <tr>\n",
       "      <th>54</th>\n",
       "      <td>Foto</td>\n",
       "      <td>2024-09-19 10:11:26-05:00</td>\n",
       "      <td>4</td>\n",
       "      <td>0</td>\n",
       "      <td>6.000000e-07</td>\n",
       "    </tr>\n",
       "    <tr>\n",
       "      <th>4</th>\n",
       "      <td>Foto</td>\n",
       "      <td>2024-09-18 19:26:45-05:00</td>\n",
       "      <td>17</td>\n",
       "      <td>1</td>\n",
       "      <td>4.209500e-03</td>\n",
       "    </tr>\n",
       "    <tr>\n",
       "      <th>29</th>\n",
       "      <td>Reel</td>\n",
       "      <td>2024-09-08 12:02:10-05:00</td>\n",
       "      <td>20</td>\n",
       "      <td>6</td>\n",
       "      <td>4.285714e-07</td>\n",
       "    </tr>\n",
       "  </tbody>\n",
       "</table>\n",
       "</div>"
      ],
      "text/plain": [
       "    Tipo              Fecha y Hora  Palabras en Caption  Número de hashtags  \\\n",
       "54  Foto 2024-09-19 10:11:26-05:00                    4                   0   \n",
       "4   Foto 2024-09-18 19:26:45-05:00                   17                   1   \n",
       "29  Reel 2024-09-08 12:02:10-05:00                   20                   6   \n",
       "\n",
       "             KPI  \n",
       "54  6.000000e-07  \n",
       "4   4.209500e-03  \n",
       "29  4.285714e-07  "
      ]
     },
     "execution_count": 941,
     "metadata": {},
     "output_type": "execute_result"
    }
   ],
   "source": [
    "# Eliminar columnas innecesarias para el modelo\n",
    "df = df[['Tipo', 'Fecha y Hora', 'Palabras en Caption', 'Número de hashtags', 'KPI']]\n",
    "df.sample(3)"
   ]
  },
  {
   "cell_type": "code",
   "execution_count": 942,
   "metadata": {},
   "outputs": [],
   "source": [
    "# Crear One-Hot Encoder con la columna Tipo\n",
    "df = pd.concat([df,\n",
    "                pd.get_dummies(df['Tipo'], prefix='Tipo',\n",
    "                               drop_first=True, dtype=int)], axis=1)\n",
    "df.drop('Tipo', axis=1, inplace=True)"
   ]
  },
  {
   "cell_type": "code",
   "execution_count": 943,
   "metadata": {},
   "outputs": [],
   "source": [
    "# Extraer información de la columna Fecha y Hora\n",
    "df['Día de la publicación'] = df['Fecha y Hora'].dt.day\n",
    "df['Día de la semana'] = df['Fecha y Hora'].dt.dayofweek\n",
    "df['Hora de publicación'] = df['Fecha y Hora'].dt.hour\n",
    "df.drop('Fecha y Hora', axis=1, inplace=True)"
   ]
  },
  {
   "cell_type": "code",
   "execution_count": 944,
   "metadata": {},
   "outputs": [],
   "source": [
    "# Organizar las columnas\n",
    "df = df[['Palabras en Caption', 'Número de hashtags', 'Tipo_Foto',\n",
    "         'Tipo_Reel', 'Tipo_Video', 'Día de la publicación', 'Día de la semana',\n",
    "         'Hora de publicación', 'KPI']]\n",
    "\n",
    "# Separar los datos en entrenamiento y validación\n",
    "train_df, test_df = train_test_split(df, test_size=0.2)\n",
    "\n",
    "# Separar características\n",
    "target = 'KPI'\n",
    "categories = ['Tipo_Foto', 'Tipo_Reel', 'Tipo_Video']\n",
    "features = [column for column in df.columns if (\n",
    "    column not in target) and (column not in categories)]"
   ]
  },
  {
   "cell_type": "code",
   "execution_count": 945,
   "metadata": {},
   "outputs": [
    {
     "data": {
      "text/html": [
       "<div>\n",
       "<style scoped>\n",
       "    .dataframe tbody tr th:only-of-type {\n",
       "        vertical-align: middle;\n",
       "    }\n",
       "\n",
       "    .dataframe tbody tr th {\n",
       "        vertical-align: top;\n",
       "    }\n",
       "\n",
       "    .dataframe thead th {\n",
       "        text-align: right;\n",
       "    }\n",
       "</style>\n",
       "<table border=\"1\" class=\"dataframe\">\n",
       "  <thead>\n",
       "    <tr style=\"text-align: right;\">\n",
       "      <th></th>\n",
       "      <th>Palabras en Caption</th>\n",
       "      <th>Número de hashtags</th>\n",
       "      <th>Tipo_Foto</th>\n",
       "      <th>Tipo_Reel</th>\n",
       "      <th>Tipo_Video</th>\n",
       "      <th>Día de la publicación</th>\n",
       "      <th>Día de la semana</th>\n",
       "      <th>Hora de publicación</th>\n",
       "      <th>KPI</th>\n",
       "    </tr>\n",
       "  </thead>\n",
       "  <tbody>\n",
       "    <tr>\n",
       "      <th>33</th>\n",
       "      <td>-0.835217</td>\n",
       "      <td>-0.061346</td>\n",
       "      <td>0</td>\n",
       "      <td>1</td>\n",
       "      <td>0</td>\n",
       "      <td>-0.565169</td>\n",
       "      <td>-0.015704</td>\n",
       "      <td>-0.120660</td>\n",
       "      <td>5.639551e-03</td>\n",
       "    </tr>\n",
       "    <tr>\n",
       "      <th>14</th>\n",
       "      <td>-0.001148</td>\n",
       "      <td>-0.703604</td>\n",
       "      <td>0</td>\n",
       "      <td>1</td>\n",
       "      <td>0</td>\n",
       "      <td>0.132117</td>\n",
       "      <td>-1.089827</td>\n",
       "      <td>0.272346</td>\n",
       "      <td>3.511905e-03</td>\n",
       "    </tr>\n",
       "    <tr>\n",
       "      <th>6</th>\n",
       "      <td>0.440418</td>\n",
       "      <td>-0.703604</td>\n",
       "      <td>0</td>\n",
       "      <td>0</td>\n",
       "      <td>0</td>\n",
       "      <td>-0.286254</td>\n",
       "      <td>1.058420</td>\n",
       "      <td>0.665351</td>\n",
       "      <td>3.000000e-07</td>\n",
       "    </tr>\n",
       "  </tbody>\n",
       "</table>\n",
       "</div>"
      ],
      "text/plain": [
       "    Palabras en Caption  Número de hashtags  Tipo_Foto  Tipo_Reel  Tipo_Video  \\\n",
       "33            -0.835217           -0.061346          0          1           0   \n",
       "14            -0.001148           -0.703604          0          1           0   \n",
       "6              0.440418           -0.703604          0          0           0   \n",
       "\n",
       "    Día de la publicación  Día de la semana  Hora de publicación           KPI  \n",
       "33              -0.565169         -0.015704            -0.120660  5.639551e-03  \n",
       "14               0.132117         -1.089827             0.272346  3.511905e-03  \n",
       "6               -0.286254          1.058420             0.665351  3.000000e-07  "
      ]
     },
     "execution_count": 945,
     "metadata": {},
     "output_type": "execute_result"
    }
   ],
   "source": [
    "# Estandarizar las columnas\n",
    "scaler = StandardScaler()\n",
    "train_df[features] = scaler.fit_transform(train_df[features])\n",
    "test_df[features] = scaler.transform(test_df[features])\n",
    "\n",
    "# Mostrar 3 registros aleatorios de entrenamiento\n",
    "train_df.sample(3)"
   ]
  },
  {
   "cell_type": "markdown",
   "metadata": {},
   "source": [
    "Una vez establecimos las columnas importantes para nuestro contenido, extraemos la mayor cantidad de información de ellas y finalmente las estandarizamos para que ninguna de ellas represente un sesgo para nuestro modelo."
   ]
  },
  {
   "cell_type": "markdown",
   "metadata": {},
   "source": [
    "# <span style=\"color:#0F19C9\">Entrenar modelos</span>"
   ]
  },
  {
   "cell_type": "code",
   "execution_count": 946,
   "metadata": {},
   "outputs": [],
   "source": [
    "# Crear diccionario de métricas\n",
    "models = {}"
   ]
  },
  {
   "cell_type": "markdown",
   "metadata": {},
   "source": [
    "## <span style=\"color:#0F19C9\">Prueba de Cordura</span>"
   ]
  },
  {
   "cell_type": "code",
   "execution_count": 947,
   "metadata": {},
   "outputs": [
    {
     "name": "stdout",
     "output_type": "stream",
     "text": [
      "El menor RMSE fue 0.004933875251127583 con la constante 0.00431170606060606\n"
     ]
    }
   ],
   "source": [
    "# Encontrar la mejor constante para la prueba\n",
    "best_const = 0\n",
    "best_rmse = 1\n",
    "\n",
    "for constant in np.linspace(test_df[target].min(), test_df[target].max(), num=100):\n",
    "    predictions = np.array(\n",
    "        [constant] * test_df[features + categories].shape[0])\n",
    "    rmse = mean_squared_error(predictions, test_df[target])**0.5\n",
    "    if rmse < best_rmse:\n",
    "        best_rmse = rmse\n",
    "        best_const = constant\n",
    "\n",
    "print(f'El menor RMSE fue {best_rmse} con la constante {best_const}')\n",
    "models['Prueba de Cordura'] = best_rmse"
   ]
  },
  {
   "cell_type": "markdown",
   "metadata": {},
   "source": [
    "## <span style=\"color:#0F19C9\">Regresión Lineal</span>"
   ]
  },
  {
   "cell_type": "code",
   "execution_count": 948,
   "metadata": {},
   "outputs": [
    {
     "name": "stdout",
     "output_type": "stream",
     "text": [
      "El RMSE en el modelo de Regresión Lineal es: 0.005032326732111584\n"
     ]
    }
   ],
   "source": [
    "# Entrenar modelo de Regresión Lineal\n",
    "model_1 = LinearRegression()\n",
    "model_1.fit(train_df[features + categories], train_df[target])\n",
    "\n",
    "# Evaluar el modelo\n",
    "predictions = model_1.predict(test_df[features + categories])\n",
    "models['Regresión Lineal'] = mean_squared_error(\n",
    "    predictions, test_df[target])**0.5\n",
    "print('El RMSE en el modelo de Regresión Lineal es:',\n",
    "      models['Regresión Lineal'])"
   ]
  },
  {
   "cell_type": "markdown",
   "metadata": {},
   "source": [
    "## <span style=\"color:#0F19C9\">Ridge</span>"
   ]
  },
  {
   "cell_type": "code",
   "execution_count": 949,
   "metadata": {},
   "outputs": [
    {
     "name": "stdout",
     "output_type": "stream",
     "text": [
      "El RMSE en el modelo de Ridge es: 0.0050177663043348576\n"
     ]
    }
   ],
   "source": [
    "# Entrenar modelo de Ridge\n",
    "model_2 = Ridge(alpha=1.0)\n",
    "model_2.fit(train_df[features + categories], train_df[target])\n",
    "\n",
    "# Evaluar el modelo\n",
    "predictions = model_2.predict(test_df[features + categories])\n",
    "models['Ridge'] = mean_squared_error(predictions, test_df[target])**0.5\n",
    "print('El RMSE en el modelo de Ridge es:', models['Ridge'])"
   ]
  },
  {
   "cell_type": "markdown",
   "metadata": {},
   "source": [
    "## <span style=\"color:#0F19C9\">Lasso</span>"
   ]
  },
  {
   "cell_type": "code",
   "execution_count": 950,
   "metadata": {},
   "outputs": [
    {
     "name": "stdout",
     "output_type": "stream",
     "text": [
      "El RMSE en el modelo de Lasso es: 0.00495685574260687\n"
     ]
    }
   ],
   "source": [
    "# Entrenar modelo de Lasso\n",
    "model_3 = Lasso(alpha=0.0002)\n",
    "model_3.fit(train_df[features + categories], train_df[target])\n",
    "\n",
    "# Evaluar el modelo\n",
    "predictions = model_3.predict(test_df[features + categories])\n",
    "models['Lasso'] = mean_squared_error(predictions, test_df[target])**0.5\n",
    "print('El RMSE en el modelo de Lasso es:', models['Lasso'])"
   ]
  },
  {
   "cell_type": "markdown",
   "metadata": {},
   "source": [
    "## <span style=\"color:#0F19C9\">Regresión de Soporte de Vectores</span>"
   ]
  },
  {
   "cell_type": "code",
   "execution_count": 951,
   "metadata": {},
   "outputs": [
    {
     "name": "stdout",
     "output_type": "stream",
     "text": [
      "El RMSE en el modelo de Regresión de Soporte de Vectores es: 0.007426793206695126\n"
     ]
    }
   ],
   "source": [
    "# Entrenar modelo de Regresión de Soporte de Vectores\n",
    "model_4 = SVR(kernel='rbf')\n",
    "model_4.fit(train_df[features + categories], train_df[target])\n",
    "\n",
    "# Evaluar el modelo\n",
    "predictions = model_4.predict(test_df[features + categories])\n",
    "models['Regresión de Soporte de Vectores'] = mean_squared_error(\n",
    "    predictions, test_df[target])**0.5\n",
    "print('El RMSE en el modelo de Regresión de Soporte de Vectores es:',\n",
    "      models['Regresión de Soporte de Vectores'])"
   ]
  },
  {
   "cell_type": "markdown",
   "metadata": {},
   "source": [
    "## <span style=\"color:#0F19C9\">Regresión de Bosque Aleatorio</span>"
   ]
  },
  {
   "cell_type": "code",
   "execution_count": 952,
   "metadata": {},
   "outputs": [
    {
     "name": "stdout",
     "output_type": "stream",
     "text": [
      "El RMSE en el modelo de Regresión de Bosque Aleatorio es: 0.005410445593111685\n"
     ]
    }
   ],
   "source": [
    "# Entrenar modelo de Regresión de Bosque Aleatorio\n",
    "model_5 = RandomForestRegressor()\n",
    "model_5.fit(train_df[features + categories], train_df[target])\n",
    "\n",
    "# Evaluar el modelo\n",
    "predictions = model_5.predict(test_df[features + categories])\n",
    "models['Regresión de Bosque Aleatorio'] = mean_squared_error(\n",
    "    predictions, test_df[target])**0.5\n",
    "print('El RMSE en el modelo de Regresión de Bosque Aleatorio es:',\n",
    "      models['Regresión de Bosque Aleatorio'])"
   ]
  },
  {
   "cell_type": "markdown",
   "metadata": {},
   "source": [
    "## <span style=\"color:#0F19C9\">Regresión de Gradiente</span>"
   ]
  },
  {
   "cell_type": "code",
   "execution_count": 953,
   "metadata": {},
   "outputs": [
    {
     "name": "stdout",
     "output_type": "stream",
     "text": [
      "El RMSE en el modelo de Regresión de Gradiente es: 0.005419231100641489\n"
     ]
    }
   ],
   "source": [
    "# Entrenar modelo de Regresión de Gradiente\n",
    "model_6 = GradientBoostingRegressor()\n",
    "model_6.fit(train_df[features + categories], train_df[target])\n",
    "\n",
    "# Evaluar el modelo\n",
    "predictions = model_6.predict(test_df[features + categories])\n",
    "models['Regresión de Gradiente'] = mean_squared_error(\n",
    "    predictions, test_df[target])**0.5\n",
    "print('El RMSE en el modelo de Regresión de Gradiente es:',\n",
    "      models['Regresión de Gradiente'])"
   ]
  },
  {
   "cell_type": "markdown",
   "metadata": {},
   "source": [
    "# <span style=\"color:#0F19C9\">Evaluar modelos</span>"
   ]
  },
  {
   "cell_type": "code",
   "execution_count": 954,
   "metadata": {},
   "outputs": [
    {
     "name": "stderr",
     "output_type": "stream",
     "text": [
      "C:\\Users\\juanp\\AppData\\Local\\Temp\\ipykernel_14892\\3227085178.py:14: UserWarning: set_ticklabels() should only be used with a fixed number of ticks, i.e. after set_ticks() or using a FixedLocator.\n",
      "  ax.set_yticklabels(list(models.keys()),\n"
     ]
    },
    {
     "data": {
      "image/png": "[encoded data removed]",
      "text/plain": [
       "<Figure size 1200x400 with 1 Axes>"
      ]
     },
     "metadata": {},
     "output_type": "display_data"
    },
    {
     "name": "stdout",
     "output_type": "stream",
     "text": [
      "El mejor modelo fue el Lasso que tuvo un RMSE de 0.00495685574260687\n"
     ]
    }
   ],
   "source": [
    "# Hacer gráfica de métricas de modelos\n",
    "fig, ax = plt.subplots(figsize=[12, 4])\n",
    "plt.text(x=-0.00228, y=-3.4,\n",
    "         s='Gráfica 1')\n",
    "plt.title('Tenemos tres modelos con métrica muy similar',\n",
    "          weight='bold', size=22,\n",
    "          x=0.08, y=1.2, color=juan_colors[0])\n",
    "plt.suptitle('RMSE de cada modelo entrenado',\n",
    "             x=0, y=1)\n",
    "plt.barh(y=list(models.keys()),\n",
    "         width=list(models.values()),\n",
    "         color=juan_colors[0],\n",
    "         zorder=2)\n",
    "ax.set_yticklabels(list(models.keys()),\n",
    "                   ha='left',\n",
    "                   x=-.27)\n",
    "plt.grid(axis='x', alpha=0.7,\n",
    "         zorder=1)\n",
    "ax.spines[['top', 'bottom', 'right']].set_visible(False)\n",
    "plt.gca().invert_yaxis()\n",
    "plt.show()\n",
    "\n",
    "# Identificar el mejor modelo\n",
    "best_model = sorted(models, key=models.get)[1]\n",
    "print(\n",
    "    f'El mejor modelo fue el {best_model} que tuvo un RMSE de {models[best_model]}')"
   ]
  },
  {
   "cell_type": "markdown",
   "metadata": {},
   "source": [
    "# <span style=\"color:#0F19C9\">Optimizar modelo Lasso</span>\n",
    "\n",
    "Debido a que Lasso fue el modelo que menor error nos arrojó, vamos a continuar con la afinación de sus hiperparámetros buscando disminuir aún más el error, esto lo haremos con `GridSearchCV`."
   ]
  },
  {
   "cell_type": "code",
   "execution_count": 955,
   "metadata": {},
   "outputs": [
    {
     "name": "stdout",
     "output_type": "stream",
     "text": [
      "Mejores hiperparámetros:  {'alpha': 0.0001, 'fit_intercept': True, 'max_iter': 10, 'positive': True}\n",
      "Coeficientes del mejor modelo:  [0.00050126 0.00018369 0.         0.         0.00020455 0.\n",
      " 0.         0.        ]\n",
      "Con un RMSE de 0.004952607026687272\n"
     ]
    }
   ],
   "source": [
    "# Definir el rango de hiperparámetros para ajustar\n",
    "parametros = {\n",
    "    'alpha': [0.0001, 0.0002, 0.0003, 0.0005, 0.0007, 0.001, 0.01, 0.1, 1],\n",
    "    'fit_intercept': [True, False],\n",
    "    'max_iter': [10, 100, 1000, 5000, 10000],\n",
    "    'positive': [True, False]\n",
    "}\n",
    "\n",
    "# Definir el GridSearchCV con validación cruzada\n",
    "grid_search = GridSearchCV(model_3, param_grid=parametros,\n",
    "                           cv=5, scoring='neg_mean_squared_error')\n",
    "\n",
    "# Ajustar el GridSearchCV con los datos de entrenamiento\n",
    "grid_search.fit(train_df[features + categories], train_df[target])\n",
    "\n",
    "# Obtener todos los resultados del GridSearch\n",
    "resultados = grid_search.cv_results_\n",
    "\n",
    "# Inicializar el mejor modelo válido\n",
    "best_model = None\n",
    "best_params = None\n",
    "best_rmse = 1\n",
    "\n",
    "# Comprobar el mejor modelo y los coeficientes\n",
    "for i in range(len(resultados['mean_test_score'])):\n",
    "    model = Lasso(\n",
    "        alpha=resultados['params'][i]['alpha'],\n",
    "        fit_intercept=resultados['params'][i]['fit_intercept'],\n",
    "        max_iter=resultados['params'][i]['max_iter'],\n",
    "        positive=resultados['params'][i]['positive']\n",
    "    )\n",
    "    model.fit(train_df[features + categories], train_df[target])\n",
    "\n",
    "    # Checar los coeficientes\n",
    "    coeficientes = model.coef_\n",
    "\n",
    "    # Contar cuántos coeficientes son diferentes de 0\n",
    "    non_zero_count = sum(c != 0 for c in coeficientes)\n",
    "\n",
    "    # Si al menos 3 coeficientes son diferentes de 0, guardar el modelo y sus parámetros\n",
    "    if non_zero_count >= 3:\n",
    "        predictions = model.predict(test_df[features + categories])\n",
    "        rmse = mean_squared_error(predictions, test_df[target])**0.5\n",
    "        if rmse < best_rmse:\n",
    "            best_rmse = rmse\n",
    "            best_model = model\n",
    "            best_params = resultados['params'][i]\n",
    "\n",
    "# Comprobar si se encontró un modelo válido\n",
    "if best_model is not None:\n",
    "    print(\"Mejores hiperparámetros: \", best_params)\n",
    "    print(\"Coeficientes del mejor modelo: \", best_model.coef_)\n",
    "    print(\"Con un RMSE de\", best_rmse)\n",
    "else:\n",
    "    print(\"No se encontró un modelo válido con al menos 3 coeficientes diferentes de cero.\")"
   ]
  },
  {
   "cell_type": "code",
   "execution_count": 956,
   "metadata": {},
   "outputs": [
    {
     "name": "stdout",
     "output_type": "stream",
     "text": [
      "Mejores hiperparámetros:  {'alpha': 0.0001, 'fit_intercept': True, 'max_iter': 5, 'positive': True}\n",
      "Coeficientes del mejor modelo:  [0.00050126 0.00018369 0.         0.         0.00020455 0.\n",
      " 0.         0.        ]\n",
      "Con un RMSE de 0.004952607026687272\n"
     ]
    }
   ],
   "source": [
    "# Definir el rango de hiperparámetros para ajustar\n",
    "parametros = {\n",
    "    'alpha': [0.0001, 0.0002, 0.0003, 0.0004],\n",
    "    'fit_intercept': [True, False],\n",
    "    'max_iter': [5, 8, 10, 12, 15],\n",
    "    'positive': [True, False]\n",
    "}\n",
    "\n",
    "# Definir el GridSearchCV con validación cruzada\n",
    "grid_search = GridSearchCV(model_3, param_grid=parametros,\n",
    "                           cv=5, scoring='neg_mean_squared_error')\n",
    "\n",
    "# Ajustar el GridSearchCV con los datos de entrenamiento\n",
    "grid_search.fit(train_df[features + categories], train_df[target])\n",
    "\n",
    "# Obtener todos los resultados del GridSearch\n",
    "resultados = grid_search.cv_results_\n",
    "\n",
    "# Inicializar el mejor modelo válido\n",
    "best_model = None\n",
    "best_params = None\n",
    "best_rmse = 1\n",
    "\n",
    "# Comprobar el mejor modelo y los coeficientes\n",
    "for i in range(len(resultados['mean_test_score'])):\n",
    "    model = Lasso(\n",
    "        alpha=resultados['params'][i]['alpha'],\n",
    "        fit_intercept=resultados['params'][i]['fit_intercept'],\n",
    "        max_iter=resultados['params'][i]['max_iter'],\n",
    "        positive=resultados['params'][i]['positive']\n",
    "    )\n",
    "    model.fit(train_df[features + categories], train_df[target])\n",
    "\n",
    "    # Checar los coeficientes\n",
    "    coeficientes = model.coef_\n",
    "\n",
    "    # Contar cuántos coeficientes son diferentes de 0\n",
    "    non_zero_count = sum(c != 0 for c in coeficientes)\n",
    "\n",
    "    # Si al menos 3 coeficientes son diferentes de 0, guardar el modelo y sus parámetros\n",
    "    if non_zero_count >= 3:\n",
    "        predictions = model.predict(test_df[features + categories])\n",
    "        rmse = mean_squared_error(predictions, test_df[target])**0.5\n",
    "        if rmse < best_rmse:\n",
    "            best_rmse = rmse\n",
    "            best_model = model\n",
    "            best_params = resultados['params'][i]\n",
    "\n",
    "# Comprobar si se encontró un modelo válido\n",
    "if best_model is not None:\n",
    "    print(\"Mejores hiperparámetros: \", best_params)\n",
    "    print(\"Coeficientes del mejor modelo: \", best_model.coef_)\n",
    "    print(\"Con un RMSE de\", best_rmse)\n",
    "else:\n",
    "    print(\"No se encontró un modelo válido con al menos 3 coeficientes diferentes de cero.\")"
   ]
  },
  {
   "cell_type": "code",
   "execution_count": 957,
   "metadata": {},
   "outputs": [
    {
     "name": "stdout",
     "output_type": "stream",
     "text": [
      "El RMSE en el modelo de Lasso reentrenado es: 0.00495685574260687\n"
     ]
    }
   ],
   "source": [
    "# Reentrenamiento del modelo\n",
    "model_3 = best_model\n",
    "model_3.fit(train_df[features + categories], train_df[target])\n",
    "\n",
    "# Evaluar el modelo\n",
    "predictions = model_3.predict(test_df[features + categories])\n",
    "models['Lasso FineTuned'] = mean_squared_error(\n",
    "    predictions, test_df[target])**0.5\n",
    "print('El RMSE en el modelo de Lasso reentrenado es:', models['Lasso'])"
   ]
  },
  {
   "cell_type": "code",
   "execution_count": 958,
   "metadata": {},
   "outputs": [
    {
     "name": "stdout",
     "output_type": "stream",
     "text": [
      "La mejora en nuestra métrica antes del reentrenamiento y después del reentrenamiento es de 0.0857%\n"
     ]
    }
   ],
   "source": [
    "# Medir la diferencia de modelos\n",
    "diff = 100 - ((models['Lasso FineTuned']/models['Lasso']) * 100)\n",
    "print(\n",
    "    f\"La mejora en nuestra métrica antes del reentrenamiento y después del reentrenamiento es de {diff:.4f}%\")"
   ]
  },
  {
   "cell_type": "code",
   "execution_count": 959,
   "metadata": {},
   "outputs": [
    {
     "name": "stderr",
     "output_type": "stream",
     "text": [
      "C:\\Users\\juanp\\AppData\\Local\\Temp\\ipykernel_14892\\448024327.py:14: UserWarning: set_ticklabels() should only be used with a fixed number of ticks, i.e. after set_ticks() or using a FixedLocator.\n",
      "  ax.set_yticklabels(['Lasso Original',\n"
     ]
    },
    {
     "data": {
      "image/png": "[encoded data removed]",
      "text/plain": [
       "<Figure size 1200x200 with 1 Axes>"
      ]
     },
     "metadata": {},
     "output_type": "display_data"
    }
   ],
   "source": [
    "# Hacer gráfica de métricas de modelos\n",
    "fig, ax = plt.subplots(figsize=[12, 2])\n",
    "plt.text(x=-0.00092, y=-1.5,\n",
    "         s='Gráfica 2')\n",
    "plt.title(f'El modelo mejoró un {diff:.4f}%',\n",
    "          weight='bold', size=22,\n",
    "          x=0.08, y=1.2, color=juan_colors[0])\n",
    "plt.suptitle('Comparación antes y después de la afinación de hiperparámetros',\n",
    "             x=0.23, y=1)\n",
    "plt.barh(y=['Lasso', 'Lasso FineTuned'],\n",
    "         width=[models['Lasso'], models['Lasso FineTuned']],\n",
    "         color=juan_colors[0],\n",
    "         zorder=2)\n",
    "ax.set_yticklabels(['Lasso Original',\n",
    "                    'Lasso Modificado'],\n",
    "                   ha='left',\n",
    "                   x=-.14)\n",
    "plt.grid(axis='x', alpha=0.7,\n",
    "         zorder=1)\n",
    "ax.spines[['top', 'bottom', 'right']].set_visible(False)\n",
    "plt.gca().invert_yaxis()"
   ]
  },
  {
   "cell_type": "markdown",
   "metadata": {},
   "source": [
    "# <span style=\"color:#0F19C9\">Estudiar modelo Lasso</span>"
   ]
  },
  {
   "cell_type": "code",
   "execution_count": 960,
   "metadata": {},
   "outputs": [
    {
     "data": {
      "text/html": [
       "<div>\n",
       "<style scoped>\n",
       "    .dataframe tbody tr th:only-of-type {\n",
       "        vertical-align: middle;\n",
       "    }\n",
       "\n",
       "    .dataframe tbody tr th {\n",
       "        vertical-align: top;\n",
       "    }\n",
       "\n",
       "    .dataframe thead th {\n",
       "        text-align: right;\n",
       "    }\n",
       "</style>\n",
       "<table border=\"1\" class=\"dataframe\">\n",
       "  <thead>\n",
       "    <tr style=\"text-align: right;\">\n",
       "      <th></th>\n",
       "      <th>Característica</th>\n",
       "      <th>Coeficiente</th>\n",
       "    </tr>\n",
       "  </thead>\n",
       "  <tbody>\n",
       "    <tr>\n",
       "      <th>0</th>\n",
       "      <td>Palabras en Caption</td>\n",
       "      <td>0.000501</td>\n",
       "    </tr>\n",
       "    <tr>\n",
       "      <th>4</th>\n",
       "      <td>Hora de publicación</td>\n",
       "      <td>0.000205</td>\n",
       "    </tr>\n",
       "    <tr>\n",
       "      <th>1</th>\n",
       "      <td>Número de hashtags</td>\n",
       "      <td>0.000184</td>\n",
       "    </tr>\n",
       "    <tr>\n",
       "      <th>2</th>\n",
       "      <td>Día de la publicación</td>\n",
       "      <td>0.000000</td>\n",
       "    </tr>\n",
       "    <tr>\n",
       "      <th>3</th>\n",
       "      <td>Día de la semana</td>\n",
       "      <td>0.000000</td>\n",
       "    </tr>\n",
       "    <tr>\n",
       "      <th>5</th>\n",
       "      <td>Tipo_Foto</td>\n",
       "      <td>0.000000</td>\n",
       "    </tr>\n",
       "    <tr>\n",
       "      <th>6</th>\n",
       "      <td>Tipo_Reel</td>\n",
       "      <td>0.000000</td>\n",
       "    </tr>\n",
       "    <tr>\n",
       "      <th>7</th>\n",
       "      <td>Tipo_Video</td>\n",
       "      <td>0.000000</td>\n",
       "    </tr>\n",
       "  </tbody>\n",
       "</table>\n",
       "</div>"
      ],
      "text/plain": [
       "          Característica  Coeficiente\n",
       "0    Palabras en Caption     0.000501\n",
       "4    Hora de publicación     0.000205\n",
       "1     Número de hashtags     0.000184\n",
       "2  Día de la publicación     0.000000\n",
       "3       Día de la semana     0.000000\n",
       "5              Tipo_Foto     0.000000\n",
       "6              Tipo_Reel     0.000000\n",
       "7             Tipo_Video     0.000000"
      ]
     },
     "execution_count": 960,
     "metadata": {},
     "output_type": "execute_result"
    }
   ],
   "source": [
    "# Encontrar coeficientes del modelo\n",
    "coeficientes = pd.DataFrame({\n",
    "    'Característica': model_3.feature_names_in_,\n",
    "    'Coeficiente': model_3.coef_\n",
    "})\n",
    "\n",
    "# Ordenar por valor absoluto\n",
    "coeficientes['Absoluto'] = np.abs(coeficientes['Coeficiente'])\n",
    "coeficientes.sort_values('Absoluto', ascending=False, inplace=True)\n",
    "coeficientes.drop(columns='Absoluto', inplace=True)\n",
    "coeficientes"
   ]
  },
  {
   "cell_type": "code",
   "execution_count": 971,
   "metadata": {},
   "outputs": [
    {
     "name": "stderr",
     "output_type": "stream",
     "text": [
      "C:\\Users\\juanp\\AppData\\Local\\Temp\\ipykernel_14892\\2502650081.py:14: UserWarning: set_ticklabels() should only be used with a fixed number of ticks, i.e. after set_ticks() or using a FixedLocator.\n",
      "  ax.set_yticklabels(coeficientes['Característica'],\n"
     ]
    },
    {
     "data": {
      "image/png": "[encoded data removed]",
      "text/plain": [
       "<Figure size 1200x400 with 1 Axes>"
      ]
     },
     "metadata": {},
     "output_type": "display_data"
    }
   ],
   "source": [
    "# Hacer gráfica de coeficientes del modelo\n",
    "fig, ax = plt.subplots(figsize=[12, 4])\n",
    "plt.text(x=-0.000131, y=-3.9, ha='left',\n",
    "         s='Gráfica 3')\n",
    "plt.title('El mayor peso en el KPI lo ejercen la cantidad de palabras del Caption',\n",
    "          weight='bold', size=22, ha='left',\n",
    "          x=-0.25, y=1.2, color=juan_colors[0])\n",
    "plt.suptitle('Peso de cada característica en el modelo Lasso optimizado',\n",
    "             x=-0.07, y=1, ha='left')\n",
    "plt.barh(y=coeficientes['Característica'],\n",
    "         width=coeficientes['Coeficiente'],\n",
    "         color=juan_colors[0],\n",
    "         zorder=2)\n",
    "ax.set_yticklabels(coeficientes['Característica'],\n",
    "                   ha='left',\n",
    "                   x=-.18)\n",
    "plt.grid(axis='x', alpha=0.7,\n",
    "         zorder=1)\n",
    "ax.spines[['top', 'bottom', 'right']].set_visible(False)\n",
    "plt.gca().invert_yaxis()\n",
    "plt.show()"
   ]
  },
  {
   "cell_type": "markdown",
   "metadata": {},
   "source": [
    "Podemos entonces concluir, a partir de la evaluación con la métrica de la Raíz del Error Cuadrático Medio, donde el mejor modelo resulta ser el menor valor de error, el mejor modelo es el llamado Lasso con un valor de RMSE de 0.004268.\n",
    "\n",
    "De este modelo, y más específicamente de sus coeficientes, podemos ver que se penalizaron las características de Tipo, es decir, para el modelo el tipo de contenido no resultó ser lo suficientemente relevante. Así como el número de hashtags en una publicación, ni el día. Por otra parte, tenemos tres coeficientes positivos que en orden de prioridad serían:\n",
    "- **Cantidad de palabras en la descripción:** Con un coeficiente de 0.000501, es la característica con mayor impacto en nuestra variable objetivo. Que sea positiva nos indica que en cuanto más palabras usemos en la descripción, tendremos un mejor KPI.\n",
    "- **Hora de publicación:** Es la segunda característica con mayor impacto en nuestra variable objetivo con un coeficiente de 0.000205, también es positiva. Entonces es la segunda variable más importante para poder determinar el KPI de una publicación, sin embargo su impacto es menor que la mitad que la cantidad de palabras.\n",
    "- **Día de la Semana:** Con un coeficiente de 0.000184, podemos ver que aunque si es importante para el modelo, pues no la penalizó, no tiene gran impacto sobre nuestra variable objetivo."
   ]
  }
 ],
 "metadata": {
  "kernelspec": {
   "display_name": "base",
   "language": "python",
   "name": "python3"
  },
  "language_info": {
   "codemirror_mode": {
    "name": "ipython",
    "version": 3
   },
   "file_extension": ".py",
   "mimetype": "text/x-python",
   "name": "python",
   "nbconvert_exporter": "python",
   "pygments_lexer": "ipython3",
   "version": "3.11.7"
  }
 },
 "nbformat": 4,
 "nbformat_minor": 2
}

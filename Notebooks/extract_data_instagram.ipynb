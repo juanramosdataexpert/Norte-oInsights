{
 "cells": [
  {
   "cell_type": "markdown",
   "metadata": {},
   "source": [
    "# <span style=\"color:#0F19C9\">Contenido</span>\n",
    "\n",
    "- [Descargar información](#descargar-información)\n",
    "- [Descargar información complementaria](#descargar-información-complementaria)\n",
    "- [Organizar los dataframes](#organizar-los-dataframes)\n",
    "- [Eliminar valores atípicos y exportar](#eliminar-valores-atípicos-y-exportar)"
   ]
  },
  {
   "cell_type": "markdown",
   "metadata": {},
   "source": [
    "# <span style=\"color:#0F19C9\">Descargar información</span>\n",
    "\n",
    "Vamos a utilizar la librería `InstagrAPI` para poder acceder de forma fácil a los datos que necesitamos en la plataforma Instagram. Vamos a extraer los últimos 20 post de cada uno de los artistas más importantes del género a septiembre de 2024 en Colombia que son: Los Hermanos Ariza Show, Uriel Henao, Grupo Dominio y Los 5 del Norte."
   ]
  },
  {
   "cell_type": "code",
   "execution_count": 1,
   "metadata": {},
   "outputs": [],
   "source": [
    "# Importar la librería para descargar datos\n",
    "from instagrapi import Client\n",
    "\n",
    "# Importar librerías para manipulación de dataframes\n",
    "import pandas as pd\n",
    "import numpy as np\n",
    "import re\n",
    "\n",
    "# Importar librería para manejo de credenciales\n",
    "from dotenv import load_dotenv\n",
    "import os"
   ]
  },
  {
   "cell_type": "code",
   "execution_count": 2,
   "metadata": {},
   "outputs": [
    {
     "data": {
      "text/plain": [
       "True"
      ]
     },
     "execution_count": 2,
     "metadata": {},
     "output_type": "execute_result"
    }
   ],
   "source": [
    "# Cargar las credenciales\n",
    "load_dotenv()\n",
    "\n",
    "# Guardar las credenciales de acceso\n",
    "user = os.getenv('user_account')\n",
    "password = os.getenv('user_password')\n",
    "\n",
    "# Ingresar a Instagram con las credenciales\n",
    "cl = Client()\n",
    "cl.login(user, password)"
   ]
  },
  {
   "cell_type": "code",
   "execution_count": 3,
   "metadata": {},
   "outputs": [],
   "source": [
    "# Crear listas vacías para guardar la información\n",
    "artists = []\n",
    "followers = []\n",
    "taken_at = []\n",
    "captions = []\n",
    "views = []\n",
    "likes = []\n",
    "comments = []\n",
    "type = []\n",
    "\n",
    "# Hacer lista de artistas\n",
    "accounts = ['hermanosarizashow.oficial',\n",
    "            'urielhenaooficial',\n",
    "            'tugrupodominio',\n",
    "            'los5delnorte']"
   ]
  },
  {
   "cell_type": "code",
   "execution_count": 4,
   "metadata": {},
   "outputs": [
    {
     "name": "stderr",
     "output_type": "stream",
     "text": [
      "Status 201: JSONDecodeError in public_request (url=https://www.instagram.com/hermanosarizashow.oficial/?__a=1&__d=dis) >>> \n",
      "Status 201: JSONDecodeError in public_request (url=https://www.instagram.com/hermanosarizashow.oficial/?__a=1&__d=dis) >>> \n",
      "Status 201: JSONDecodeError in public_request (url=https://www.instagram.com/hermanosarizashow.oficial/?__a=1&__d=dis) >>> \n",
      "Status 201: JSONDecodeError in public_request (url=https://www.instagram.com/urielhenaooficial/?__a=1&__d=dis) >>> \n",
      "Status 201: JSONDecodeError in public_request (url=https://www.instagram.com/urielhenaooficial/?__a=1&__d=dis) >>> \n",
      "Status 201: JSONDecodeError in public_request (url=https://www.instagram.com/urielhenaooficial/?__a=1&__d=dis) >>> \n",
      "Status 201: JSONDecodeError in public_request (url=https://www.instagram.com/tugrupodominio/?__a=1&__d=dis) >>> \n",
      "Status 201: JSONDecodeError in public_request (url=https://www.instagram.com/tugrupodominio/?__a=1&__d=dis) >>> \n",
      "Status 201: JSONDecodeError in public_request (url=https://www.instagram.com/tugrupodominio/?__a=1&__d=dis) >>> \n",
      "Status 201: JSONDecodeError in public_request (url=https://www.instagram.com/los5delnorte/?__a=1&__d=dis) >>> \n",
      "Status 201: JSONDecodeError in public_request (url=https://www.instagram.com/los5delnorte/?__a=1&__d=dis) >>> \n",
      "Status 201: JSONDecodeError in public_request (url=https://www.instagram.com/los5delnorte/?__a=1&__d=dis) >>> \n"
     ]
    }
   ],
   "source": [
    "# Traer los post de cada artista\n",
    "for artist in accounts:\n",
    "    user_id = cl.user_id_from_username(artist)\n",
    "    medias = cl.user_medias(user_id, 20)\n",
    "\n",
    "    for video in range(len(medias)):\n",
    "        info = medias[video]\n",
    "        taken_at.append(info.taken_at)\n",
    "        captions.append(info.caption_text)\n",
    "        views.append(info.play_count)\n",
    "        likes.append(info.like_count)\n",
    "        comments.append(info.comment_count)\n",
    "        video_type = info.media_type\n",
    "        if video_type == 1:\n",
    "            type.append('Foto')\n",
    "        elif (video_type == 2) & (info.product_type == 'feed'):\n",
    "            type.append('Video')\n",
    "        elif (video_type == 2) & (info.product_type == 'igtv'):\n",
    "            type.append('IGTV')\n",
    "        elif (video_type == 2) & (info.product_type == 'clips'):\n",
    "            type.append('Reel')\n",
    "        elif (video_type == 8):\n",
    "            type.append('Carrusel')\n",
    "\n",
    "    artists = artists + ([artist] * len(medias))"
   ]
  },
  {
   "cell_type": "code",
   "execution_count": 5,
   "metadata": {},
   "outputs": [],
   "source": [
    "# Crear dataframe de norteño a partir de la información descargada\n",
    "df_norteno = pd.DataFrame({\n",
    "    'Artista': artists,\n",
    "    'Fecha y Hora': taken_at,\n",
    "    'Tipo': type,\n",
    "    'Caption': captions,\n",
    "    'Likes': likes,\n",
    "    'Comentarios': comments\n",
    "})"
   ]
  },
  {
   "cell_type": "code",
   "execution_count": 6,
   "metadata": {},
   "outputs": [],
   "source": [
    "# Modificar el nombre de los artistas\n",
    "df_norteno['Artista'] = df_norteno['Artista'].map({\n",
    "    'hermanosarizashow.oficial': 'Los Hermanos Ariza Show',\n",
    "    'urielhenaooficial': 'Uriel Henao',\n",
    "    'tugrupodominio': 'Grupo Dominio',\n",
    "    'los5delnorte': 'Los 5 del Norte'\n",
    "})\n",
    "\n",
    "# Agregar la cantidad de seguidores actuales\n",
    "df_norteno['Seguidores'] = df_norteno['Artista'].map({\n",
    "    'Los Hermanos Ariza Show': 23100,\n",
    "    'Uriel Henao': 50400,\n",
    "    'Grupo Dominio': 70100,\n",
    "    'Los 5 del Norte': 16000\n",
    "})"
   ]
  },
  {
   "cell_type": "code",
   "execution_count": 7,
   "metadata": {},
   "outputs": [
    {
     "data": {
      "text/html": [
       "<div>\n",
       "<style scoped>\n",
       "    .dataframe tbody tr th:only-of-type {\n",
       "        vertical-align: middle;\n",
       "    }\n",
       "\n",
       "    .dataframe tbody tr th {\n",
       "        vertical-align: top;\n",
       "    }\n",
       "\n",
       "    .dataframe thead th {\n",
       "        text-align: right;\n",
       "    }\n",
       "</style>\n",
       "<table border=\"1\" class=\"dataframe\">\n",
       "  <thead>\n",
       "    <tr style=\"text-align: right;\">\n",
       "      <th></th>\n",
       "      <th>Artista</th>\n",
       "      <th>Fecha y Hora</th>\n",
       "      <th>Tipo</th>\n",
       "      <th>Caption</th>\n",
       "      <th>Likes</th>\n",
       "      <th>Comentarios</th>\n",
       "      <th>Seguidores</th>\n",
       "    </tr>\n",
       "  </thead>\n",
       "  <tbody>\n",
       "    <tr>\n",
       "      <th>77</th>\n",
       "      <td>Los 5 del Norte</td>\n",
       "      <td>2024-08-18 17:10:05+00:00</td>\n",
       "      <td>Reel</td>\n",
       "      <td>🤠 Pedro, ¿qué es lo que te pasa? 🤔\\n\\n#los5del...</td>\n",
       "      <td>26</td>\n",
       "      <td>1</td>\n",
       "      <td>16000</td>\n",
       "    </tr>\n",
       "    <tr>\n",
       "      <th>17</th>\n",
       "      <td>Los Hermanos Ariza Show</td>\n",
       "      <td>2024-08-21 23:12:57+00:00</td>\n",
       "      <td>Reel</td>\n",
       "      <td>Lo que ustedes estaban pidiendo familia. Se vi...</td>\n",
       "      <td>407</td>\n",
       "      <td>25</td>\n",
       "      <td>23100</td>\n",
       "    </tr>\n",
       "    <tr>\n",
       "      <th>12</th>\n",
       "      <td>Los Hermanos Ariza Show</td>\n",
       "      <td>2024-08-27 00:04:52+00:00</td>\n",
       "      <td>Reel</td>\n",
       "      <td>Yo vengo de abajo, yo empecé de cero. 🙏🏽❤️‍🔥 E...</td>\n",
       "      <td>210</td>\n",
       "      <td>3</td>\n",
       "      <td>23100</td>\n",
       "    </tr>\n",
       "  </tbody>\n",
       "</table>\n",
       "</div>"
      ],
      "text/plain": [
       "                    Artista              Fecha y Hora  Tipo  \\\n",
       "77          Los 5 del Norte 2024-08-18 17:10:05+00:00  Reel   \n",
       "17  Los Hermanos Ariza Show 2024-08-21 23:12:57+00:00  Reel   \n",
       "12  Los Hermanos Ariza Show 2024-08-27 00:04:52+00:00  Reel   \n",
       "\n",
       "                                              Caption  Likes  Comentarios  \\\n",
       "77  🤠 Pedro, ¿qué es lo que te pasa? 🤔\\n\\n#los5del...     26            1   \n",
       "17  Lo que ustedes estaban pidiendo familia. Se vi...    407           25   \n",
       "12  Yo vengo de abajo, yo empecé de cero. 🙏🏽❤️‍🔥 E...    210            3   \n",
       "\n",
       "    Seguidores  \n",
       "77       16000  \n",
       "17       23100  \n",
       "12       23100  "
      ]
     },
     "execution_count": 7,
     "metadata": {},
     "output_type": "execute_result"
    }
   ],
   "source": [
    "# Mostrar 3 registros aleatorios\n",
    "df_norteno.sample(3)"
   ]
  },
  {
   "cell_type": "markdown",
   "metadata": {},
   "source": [
    "# <span style=\"color:#0F19C9\">Descargar información complementaria</span>\n",
    "\n",
    "Utilizaremos la misma librería, pero esta vez para descargar los post de otros artistas, que, aunque no hacen parte del género directamente, nos podrían dar un panorama más general del estado actual de la red social. Los dividimos en artistas de música popular e incluimos a Pipe Bueno, Jessi Uribe, Luis Alfonso y Yeison Jiménez. Y por otro lado tenemos artistas de género norteño mundial como Los Tigres del Norte, Grupo Intocable, Los Tucanes de Tijuana y Bobby Pulido."
   ]
  },
  {
   "cell_type": "code",
   "execution_count": 8,
   "metadata": {},
   "outputs": [],
   "source": [
    "# Crear listas vacías para guardar la información\n",
    "artists = []\n",
    "followers = []\n",
    "taken_at = []\n",
    "captions = []\n",
    "views = []\n",
    "likes = []\n",
    "comments = []\n",
    "type = []\n",
    "\n",
    "# Hacer lista de artistas\n",
    "accounts_popular = ['pipebueno', 'jessiuribe3',\n",
    "                    'luisalfonso', 'yeison_jimenez']\n",
    "accounts_mexico = ['lostigresdelnorte', 'grupointocable',\n",
    "                   'lostucanesdetijuana', 'bobbypulido425']"
   ]
  },
  {
   "cell_type": "code",
   "execution_count": 9,
   "metadata": {},
   "outputs": [
    {
     "data": {
      "text/plain": [
       "True"
      ]
     },
     "execution_count": 9,
     "metadata": {},
     "output_type": "execute_result"
    }
   ],
   "source": [
    "# Ingresar a Instagram con las credenciales\n",
    "cl = Client()\n",
    "cl.login(user, password)"
   ]
  },
  {
   "cell_type": "code",
   "execution_count": 10,
   "metadata": {},
   "outputs": [
    {
     "name": "stderr",
     "output_type": "stream",
     "text": [
      "Status 201: JSONDecodeError in public_request (url=https://www.instagram.com/pipebueno/?__a=1&__d=dis) >>> \n",
      "Status 201: JSONDecodeError in public_request (url=https://www.instagram.com/pipebueno/?__a=1&__d=dis) >>> \n",
      "Status 201: JSONDecodeError in public_request (url=https://www.instagram.com/pipebueno/?__a=1&__d=dis) >>> \n",
      "Status 201: JSONDecodeError in public_request (url=https://www.instagram.com/jessiuribe3/?__a=1&__d=dis) >>> \n",
      "Status 201: JSONDecodeError in public_request (url=https://www.instagram.com/jessiuribe3/?__a=1&__d=dis) >>> \n",
      "Status 201: JSONDecodeError in public_request (url=https://www.instagram.com/jessiuribe3/?__a=1&__d=dis) >>> \n",
      "Status 201: JSONDecodeError in public_request (url=https://www.instagram.com/luisalfonso/?__a=1&__d=dis) >>> \n",
      "Status 201: JSONDecodeError in public_request (url=https://www.instagram.com/luisalfonso/?__a=1&__d=dis) >>> \n",
      "Status 201: JSONDecodeError in public_request (url=https://www.instagram.com/luisalfonso/?__a=1&__d=dis) >>> \n",
      "Status 201: JSONDecodeError in public_request (url=https://www.instagram.com/yeison_jimenez/?__a=1&__d=dis) >>> \n",
      "Status 201: JSONDecodeError in public_request (url=https://www.instagram.com/yeison_jimenez/?__a=1&__d=dis) >>> \n",
      "Status 201: JSONDecodeError in public_request (url=https://www.instagram.com/yeison_jimenez/?__a=1&__d=dis) >>> \n"
     ]
    }
   ],
   "source": [
    "# Traer los post de cada artista\n",
    "for artist in accounts_popular:\n",
    "    user_id = cl.user_id_from_username(artist)\n",
    "    medias = cl.user_medias(user_id, 20)\n",
    "\n",
    "    for video in range(len(medias)):\n",
    "        info = medias[video]\n",
    "        taken_at.append(info.taken_at)\n",
    "        captions.append(info.caption_text)\n",
    "        views.append(info.play_count)\n",
    "        likes.append(info.like_count)\n",
    "        comments.append(info.comment_count)\n",
    "        video_type = info.media_type\n",
    "        if video_type == 1:\n",
    "            type.append('Foto')\n",
    "        elif (video_type == 2) & (info.product_type == 'feed'):\n",
    "            type.append('Video')\n",
    "        elif (video_type == 2) & (info.product_type == 'igtv'):\n",
    "            type.append('IGTV')\n",
    "        elif (video_type == 2) & (info.product_type == 'clips'):\n",
    "            type.append('Reel')\n",
    "        elif (video_type == 8):\n",
    "            type.append('Carrusel')\n",
    "\n",
    "    artists = artists + ([artist] * len(medias))"
   ]
  },
  {
   "cell_type": "code",
   "execution_count": 11,
   "metadata": {},
   "outputs": [
    {
     "data": {
      "text/plain": [
       "True"
      ]
     },
     "execution_count": 11,
     "metadata": {},
     "output_type": "execute_result"
    }
   ],
   "source": [
    "# Crear dataframe de popular a partir de la información descargada\n",
    "df_popular = pd.DataFrame({\n",
    "    'Artista': artists,\n",
    "    'Fecha y Hora': taken_at,\n",
    "    'Tipo': type,\n",
    "    'Caption': captions,\n",
    "    'Likes': likes,\n",
    "    'Comentarios': comments\n",
    "})\n",
    "\n",
    "# Crear listas vacías para guardar la información\n",
    "artists = []\n",
    "followers = []\n",
    "taken_at = []\n",
    "captions = []\n",
    "views = []\n",
    "likes = []\n",
    "comments = []\n",
    "type = []\n",
    "\n",
    "# Ingresar a Instagram con las credenciales\n",
    "cl = Client()\n",
    "cl.login(user, password)"
   ]
  },
  {
   "cell_type": "code",
   "execution_count": 12,
   "metadata": {},
   "outputs": [
    {
     "name": "stderr",
     "output_type": "stream",
     "text": [
      "Status 201: JSONDecodeError in public_request (url=https://www.instagram.com/lostigresdelnorte/?__a=1&__d=dis) >>> \n",
      "Status 201: JSONDecodeError in public_request (url=https://www.instagram.com/lostigresdelnorte/?__a=1&__d=dis) >>> \n",
      "Status 201: JSONDecodeError in public_request (url=https://www.instagram.com/lostigresdelnorte/?__a=1&__d=dis) >>> \n",
      "Status 201: JSONDecodeError in public_request (url=https://www.instagram.com/grupointocable/?__a=1&__d=dis) >>> \n",
      "Status 201: JSONDecodeError in public_request (url=https://www.instagram.com/grupointocable/?__a=1&__d=dis) >>> \n",
      "Status 201: JSONDecodeError in public_request (url=https://www.instagram.com/grupointocable/?__a=1&__d=dis) >>> \n",
      "Status 201: JSONDecodeError in public_request (url=https://www.instagram.com/lostucanesdetijuana/?__a=1&__d=dis) >>> \n",
      "Status 201: JSONDecodeError in public_request (url=https://www.instagram.com/lostucanesdetijuana/?__a=1&__d=dis) >>> \n",
      "Status 201: JSONDecodeError in public_request (url=https://www.instagram.com/lostucanesdetijuana/?__a=1&__d=dis) >>> \n",
      "Status 201: JSONDecodeError in public_request (url=https://www.instagram.com/bobbypulido425/?__a=1&__d=dis) >>> \n",
      "Status 201: JSONDecodeError in public_request (url=https://www.instagram.com/bobbypulido425/?__a=1&__d=dis) >>> \n",
      "Status 201: JSONDecodeError in public_request (url=https://www.instagram.com/bobbypulido425/?__a=1&__d=dis) >>> \n"
     ]
    }
   ],
   "source": [
    "# Traer los post de cada artista\n",
    "for artist in accounts_mexico:\n",
    "    user_id = cl.user_id_from_username(artist)\n",
    "    medias = cl.user_medias(user_id, 20)\n",
    "\n",
    "    for video in range(len(medias)):\n",
    "        info = medias[video]\n",
    "        taken_at.append(info.taken_at)\n",
    "        captions.append(info.caption_text)\n",
    "        views.append(info.play_count)\n",
    "        likes.append(info.like_count)\n",
    "        comments.append(info.comment_count)\n",
    "        video_type = info.media_type\n",
    "        if video_type == 1:\n",
    "            type.append('Foto')\n",
    "        elif (video_type == 2) & (info.product_type == 'feed'):\n",
    "            type.append('Video')\n",
    "        elif (video_type == 2) & (info.product_type == 'igtv'):\n",
    "            type.append('IGTV')\n",
    "        elif (video_type == 2) & (info.product_type == 'clips'):\n",
    "            type.append('Reel')\n",
    "        elif (video_type == 8):\n",
    "            type.append('Carrusel')\n",
    "\n",
    "    artists = artists + ([artist] * len(medias))"
   ]
  },
  {
   "cell_type": "code",
   "execution_count": 13,
   "metadata": {},
   "outputs": [],
   "source": [
    "# Crear dataframe de mexico a partir de la información descargada\n",
    "df_mexico = pd.DataFrame({\n",
    "    'Artista': artists,\n",
    "    'Fecha y Hora': taken_at,\n",
    "    'Tipo': type,\n",
    "    'Caption': captions,\n",
    "    'Likes': likes,\n",
    "    'Comentarios': comments\n",
    "})"
   ]
  },
  {
   "cell_type": "code",
   "execution_count": 14,
   "metadata": {},
   "outputs": [],
   "source": [
    "# Modificar el nombre de los artistas\n",
    "df_popular['Artista'] = df_popular['Artista'].map({\n",
    "    'pipebueno': 'Pipe Bueno',\n",
    "    'jessiuribe3': 'Jessi Uribe',\n",
    "    'luisalfonso': 'Luis Alfonso',\n",
    "    'yeison_jimenez': 'Yeison Jiménez'\n",
    "})\n",
    "df_mexico['Artista'] = df_mexico['Artista'].map({\n",
    "    'lostigresdelnorte': 'Los Tigres del Norte',\n",
    "    'grupointocable': 'Grupo Intocable',\n",
    "    'lostucanesdetijuana': 'Los Tucanes de Tijuana',\n",
    "    'bobbypulido425': 'Bobby Pulido'\n",
    "})\n",
    "\n",
    "# Agregar la cantidad de seguidores actuales\n",
    "df_popular['Seguidores'] = df_popular['Artista'].map({\n",
    "    'Pipe Bueno': 10000000,\n",
    "    'Jessi Uribe': 7000000,\n",
    "    'Luis Alfonso': 2000000,\n",
    "    'Yeison Jiménez': 5000000\n",
    "})\n",
    "df_mexico['Seguidores'] = df_mexico['Artista'].map({\n",
    "    'Los Tigres del Norte': 2000000,\n",
    "    'Grupo Intocable': 713000,\n",
    "    'Los Tucanes de Tijuana': 1000000,\n",
    "    'Bobby Pulido': 162000\n",
    "})"
   ]
  },
  {
   "cell_type": "code",
   "execution_count": 15,
   "metadata": {},
   "outputs": [
    {
     "data": {
      "text/html": [
       "<div>\n",
       "<style scoped>\n",
       "    .dataframe tbody tr th:only-of-type {\n",
       "        vertical-align: middle;\n",
       "    }\n",
       "\n",
       "    .dataframe tbody tr th {\n",
       "        vertical-align: top;\n",
       "    }\n",
       "\n",
       "    .dataframe thead th {\n",
       "        text-align: right;\n",
       "    }\n",
       "</style>\n",
       "<table border=\"1\" class=\"dataframe\">\n",
       "  <thead>\n",
       "    <tr style=\"text-align: right;\">\n",
       "      <th></th>\n",
       "      <th>Artista</th>\n",
       "      <th>Fecha y Hora</th>\n",
       "      <th>Tipo</th>\n",
       "      <th>Caption</th>\n",
       "      <th>Likes</th>\n",
       "      <th>Comentarios</th>\n",
       "      <th>Seguidores</th>\n",
       "    </tr>\n",
       "  </thead>\n",
       "  <tbody>\n",
       "    <tr>\n",
       "      <th>37</th>\n",
       "      <td>Jessi Uribe</td>\n",
       "      <td>2024-09-01 17:54:17+00:00</td>\n",
       "      <td>Reel</td>\n",
       "      <td>Todo comenzó por culpa de una Empanada Hace 6 ...</td>\n",
       "      <td>3</td>\n",
       "      <td>291</td>\n",
       "      <td>7000000</td>\n",
       "    </tr>\n",
       "    <tr>\n",
       "      <th>38</th>\n",
       "      <td>Jessi Uribe</td>\n",
       "      <td>2024-08-30 23:02:51+00:00</td>\n",
       "      <td>Reel</td>\n",
       "      <td>Iniciamos Eurotour 2024 ❤️🥃 estaré en países q...</td>\n",
       "      <td>3</td>\n",
       "      <td>73</td>\n",
       "      <td>7000000</td>\n",
       "    </tr>\n",
       "    <tr>\n",
       "      <th>47</th>\n",
       "      <td>Luis Alfonso</td>\n",
       "      <td>2024-09-15 19:24:24+00:00</td>\n",
       "      <td>Reel</td>\n",
       "      <td>Doce y Treinta sigue subiendo en tendencias 🔥🔥...</td>\n",
       "      <td>57171</td>\n",
       "      <td>434</td>\n",
       "      <td>2000000</td>\n",
       "    </tr>\n",
       "    <tr>\n",
       "      <th>6</th>\n",
       "      <td>Pipe Bueno</td>\n",
       "      <td>2024-09-14 23:01:54+00:00</td>\n",
       "      <td>Carrusel</td>\n",
       "      <td>3ER ROUND - MOVISTAR ARENA ! Pre-Venta este lu...</td>\n",
       "      <td>3</td>\n",
       "      <td>188</td>\n",
       "      <td>10000000</td>\n",
       "    </tr>\n",
       "    <tr>\n",
       "      <th>15</th>\n",
       "      <td>Pipe Bueno</td>\n",
       "      <td>2024-08-04 00:40:13+00:00</td>\n",
       "      <td>Reel</td>\n",
       "      <td>Claro que tenía nerviosss jajaja familia por a...</td>\n",
       "      <td>41766</td>\n",
       "      <td>425</td>\n",
       "      <td>10000000</td>\n",
       "    </tr>\n",
       "  </tbody>\n",
       "</table>\n",
       "</div>"
      ],
      "text/plain": [
       "         Artista              Fecha y Hora      Tipo  \\\n",
       "37   Jessi Uribe 2024-09-01 17:54:17+00:00      Reel   \n",
       "38   Jessi Uribe 2024-08-30 23:02:51+00:00      Reel   \n",
       "47  Luis Alfonso 2024-09-15 19:24:24+00:00      Reel   \n",
       "6     Pipe Bueno 2024-09-14 23:01:54+00:00  Carrusel   \n",
       "15    Pipe Bueno 2024-08-04 00:40:13+00:00      Reel   \n",
       "\n",
       "                                              Caption  Likes  Comentarios  \\\n",
       "37  Todo comenzó por culpa de una Empanada Hace 6 ...      3          291   \n",
       "38  Iniciamos Eurotour 2024 ❤️🥃 estaré en países q...      3           73   \n",
       "47  Doce y Treinta sigue subiendo en tendencias 🔥🔥...  57171          434   \n",
       "6   3ER ROUND - MOVISTAR ARENA ! Pre-Venta este lu...      3          188   \n",
       "15  Claro que tenía nerviosss jajaja familia por a...  41766          425   \n",
       "\n",
       "    Seguidores  \n",
       "37     7000000  \n",
       "38     7000000  \n",
       "47     2000000  \n",
       "6     10000000  \n",
       "15    10000000  "
      ]
     },
     "execution_count": 15,
     "metadata": {},
     "output_type": "execute_result"
    }
   ],
   "source": [
    "# Mostrar 5 registros aleatorios del dataframe de popular\n",
    "df_popular.sample(5)"
   ]
  },
  {
   "cell_type": "code",
   "execution_count": 16,
   "metadata": {},
   "outputs": [
    {
     "data": {
      "text/html": [
       "<div>\n",
       "<style scoped>\n",
       "    .dataframe tbody tr th:only-of-type {\n",
       "        vertical-align: middle;\n",
       "    }\n",
       "\n",
       "    .dataframe tbody tr th {\n",
       "        vertical-align: top;\n",
       "    }\n",
       "\n",
       "    .dataframe thead th {\n",
       "        text-align: right;\n",
       "    }\n",
       "</style>\n",
       "<table border=\"1\" class=\"dataframe\">\n",
       "  <thead>\n",
       "    <tr style=\"text-align: right;\">\n",
       "      <th></th>\n",
       "      <th>Artista</th>\n",
       "      <th>Fecha y Hora</th>\n",
       "      <th>Tipo</th>\n",
       "      <th>Caption</th>\n",
       "      <th>Likes</th>\n",
       "      <th>Comentarios</th>\n",
       "      <th>Seguidores</th>\n",
       "    </tr>\n",
       "  </thead>\n",
       "  <tbody>\n",
       "    <tr>\n",
       "      <th>34</th>\n",
       "      <td>Grupo Intocable</td>\n",
       "      <td>2024-09-12 05:00:56+00:00</td>\n",
       "      <td>Foto</td>\n",
       "      <td>Happy Birthday/Feliz Cumpleaños \\nAlejandro “A...</td>\n",
       "      <td>1689</td>\n",
       "      <td>51</td>\n",
       "      <td>713000</td>\n",
       "    </tr>\n",
       "    <tr>\n",
       "      <th>65</th>\n",
       "      <td>Bobby Pulido</td>\n",
       "      <td>2024-08-23 02:02:42+00:00</td>\n",
       "      <td>Reel</td>\n",
       "      <td>YA DISPONIBLE!! 🔥💯\\n“Ojalá Y Te Animes” - Los ...</td>\n",
       "      <td>2145</td>\n",
       "      <td>32</td>\n",
       "      <td>162000</td>\n",
       "    </tr>\n",
       "    <tr>\n",
       "      <th>45</th>\n",
       "      <td>Los Tucanes de Tijuana</td>\n",
       "      <td>2024-09-20 07:07:06+00:00</td>\n",
       "      <td>Video</td>\n",
       "      <td>Nos veremos este viernes 20 Sep 2024 en Denver...</td>\n",
       "      <td>527</td>\n",
       "      <td>7</td>\n",
       "      <td>1000000</td>\n",
       "    </tr>\n",
       "    <tr>\n",
       "      <th>48</th>\n",
       "      <td>Los Tucanes de Tijuana</td>\n",
       "      <td>2024-09-19 05:16:21+00:00</td>\n",
       "      <td>Reel</td>\n",
       "      <td>Si ya saben cómo soy 😅\\n•\\n•\\n•\\n#bailes #bail...</td>\n",
       "      <td>843</td>\n",
       "      <td>8</td>\n",
       "      <td>1000000</td>\n",
       "    </tr>\n",
       "    <tr>\n",
       "      <th>36</th>\n",
       "      <td>Grupo Intocable</td>\n",
       "      <td>2024-09-10 16:09:32+00:00</td>\n",
       "      <td>Carrusel</td>\n",
       "      <td>30 aniversario Tour 2024\\n\\n13 SEPTIEMBRE - TA...</td>\n",
       "      <td>5999</td>\n",
       "      <td>30</td>\n",
       "      <td>713000</td>\n",
       "    </tr>\n",
       "  </tbody>\n",
       "</table>\n",
       "</div>"
      ],
      "text/plain": [
       "                   Artista              Fecha y Hora      Tipo  \\\n",
       "34         Grupo Intocable 2024-09-12 05:00:56+00:00      Foto   \n",
       "65            Bobby Pulido 2024-08-23 02:02:42+00:00      Reel   \n",
       "45  Los Tucanes de Tijuana 2024-09-20 07:07:06+00:00     Video   \n",
       "48  Los Tucanes de Tijuana 2024-09-19 05:16:21+00:00      Reel   \n",
       "36         Grupo Intocable 2024-09-10 16:09:32+00:00  Carrusel   \n",
       "\n",
       "                                              Caption  Likes  Comentarios  \\\n",
       "34  Happy Birthday/Feliz Cumpleaños \\nAlejandro “A...   1689           51   \n",
       "65  YA DISPONIBLE!! 🔥💯\\n“Ojalá Y Te Animes” - Los ...   2145           32   \n",
       "45  Nos veremos este viernes 20 Sep 2024 en Denver...    527            7   \n",
       "48  Si ya saben cómo soy 😅\\n•\\n•\\n•\\n#bailes #bail...    843            8   \n",
       "36  30 aniversario Tour 2024\\n\\n13 SEPTIEMBRE - TA...   5999           30   \n",
       "\n",
       "    Seguidores  \n",
       "34      713000  \n",
       "65      162000  \n",
       "45     1000000  \n",
       "48     1000000  \n",
       "36      713000  "
      ]
     },
     "execution_count": 16,
     "metadata": {},
     "output_type": "execute_result"
    }
   ],
   "source": [
    "# Mostrar 5 registros aleatorios del dataframe de México\n",
    "df_mexico.sample(5)"
   ]
  },
  {
   "cell_type": "markdown",
   "metadata": {},
   "source": [
    "# <span style=\"color:#0F19C9\">Organizar los dataframes</span>\n",
    "\n",
    "Ahora, vamos a organizar todas las columnas en un formato que sea fácil para su estudio. También crearemos algunas métricas y les daremos nuevo orden a las columnas."
   ]
  },
  {
   "cell_type": "code",
   "execution_count": 17,
   "metadata": {},
   "outputs": [],
   "source": [
    "# Cambiar franja horaria a lugar de publicación\n",
    "df_norteno['Fecha y Hora'] = df_norteno['Fecha y Hora'] \\\n",
    "    .dt.tz_convert('America/Bogota')\n",
    "df_popular['Fecha y Hora'] = df_popular['Fecha y Hora'] \\\n",
    "    .dt.tz_convert('America/Bogota')\n",
    "df_mexico['Fecha y Hora'] = df_mexico['Fecha y Hora'] \\\n",
    "    .dt.tz_convert('America/Mexico_City')\n",
    "df_mexico['Fecha y Hora'] = df_mexico['Fecha y Hora'] \\\n",
    "    .dt.tz_convert('America/Mexico_City')"
   ]
  },
  {
   "cell_type": "code",
   "execution_count": 18,
   "metadata": {},
   "outputs": [],
   "source": [
    "def count_words(text):\n",
    "    '''Función para contar las palabras del caption'''\n",
    "    return len(text.split())\n",
    "\n",
    "\n",
    "def get_hashtags(text):\n",
    "    '''Función para extraer los hashtags del caption'''\n",
    "    return re.findall(r'#\\w+', text)"
   ]
  },
  {
   "cell_type": "code",
   "execution_count": 19,
   "metadata": {},
   "outputs": [],
   "source": [
    "# Aplicar funciones sobre los captions\n",
    "df_norteno['Palabras en Caption'] = df_norteno['Caption'].apply(count_words)\n",
    "df_norteno['Hashtags'] = df_norteno['Caption'].apply(get_hashtags)\n",
    "df_norteno['Número de hashtags'] = df_norteno['Hashtags'].apply(len)\n",
    "\n",
    "df_popular['Palabras en Caption'] = df_popular['Caption'].apply(count_words)\n",
    "df_popular['Hashtags'] = df_popular['Caption'].apply(get_hashtags)\n",
    "df_popular['Número de hashtags'] = df_popular['Hashtags'].apply(len)\n",
    "\n",
    "df_mexico['Palabras en Caption'] = df_mexico['Caption'].apply(count_words)\n",
    "df_mexico['Hashtags'] = df_mexico['Caption'].apply(get_hashtags)\n",
    "df_mexico['Número de hashtags'] = df_mexico['Hashtags'].apply(len)"
   ]
  },
  {
   "cell_type": "code",
   "execution_count": 20,
   "metadata": {},
   "outputs": [],
   "source": [
    "# Crear la métrica principal\n",
    "df_norteno['KPI'] = df_norteno['Likes'] / df_norteno['Seguidores']\n",
    "df_popular['KPI'] = df_popular['Likes'] / df_popular['Seguidores']\n",
    "df_mexico['KPI'] = df_mexico['Likes'] / df_mexico['Seguidores']"
   ]
  },
  {
   "cell_type": "code",
   "execution_count": 21,
   "metadata": {},
   "outputs": [],
   "source": [
    "# Organizar las columnas\n",
    "df_norteno = df_norteno[['Artista', 'Seguidores', 'Tipo',\n",
    "                         'Fecha y Hora', 'KPI', 'Likes',\n",
    "                         'Comentarios', 'Caption',\n",
    "                         'Palabras en Caption',\n",
    "                         'Número de hashtags', 'Hashtags']]\n",
    "df_popular = df_popular[['Artista', 'Seguidores', 'Tipo',\n",
    "                         'Fecha y Hora', 'KPI', 'Likes',\n",
    "                         'Comentarios', 'Caption',\n",
    "                         'Palabras en Caption',\n",
    "                         'Número de hashtags', 'Hashtags']]\n",
    "df_mexico = df_mexico[['Artista', 'Seguidores', 'Tipo',\n",
    "                       'Fecha y Hora', 'KPI', 'Likes',\n",
    "                       'Comentarios', 'Caption',\n",
    "                       'Palabras en Caption',\n",
    "                       'Número de hashtags', 'Hashtags']]"
   ]
  },
  {
   "cell_type": "markdown",
   "metadata": {},
   "source": [
    "# <span style=\"color:#0F19C9\">Eliminar valores atípicos y exportar</span>\n",
    "\n",
    "Finalmente, vamos a eliminar los valores atípicos basándonos en la nueva métrica que creamos para finalmente exportar nuestros tres dataframes."
   ]
  },
  {
   "cell_type": "code",
   "execution_count": 22,
   "metadata": {},
   "outputs": [],
   "source": [
    "def delete_outliers(df, column):\n",
    "    '''Función para eliminar los valores atípicos de la columna \"column\"'''\n",
    "    IQ1 = np.quantile(df[column], 0.25)\n",
    "    IQ3 = np.quantile(df[column], 0.75)\n",
    "    RIQ = IQ3 - IQ1\n",
    "    main_df = df[df[column].between(IQ1 - 1.5*RIQ, IQ3 + 1.5*RIQ)]\n",
    "    viral_df = df[~df[column].between(IQ1 - 1.5*RIQ, IQ3 + 1.5*RIQ)]\n",
    "    return main_df, viral_df"
   ]
  },
  {
   "cell_type": "code",
   "execution_count": 23,
   "metadata": {},
   "outputs": [],
   "source": [
    "# Eliminar los valores atípicos de la columna KPI\n",
    "df_norteno, viral_df_norteno = delete_outliers(df_norteno, 'KPI')\n",
    "df_popular, viral_df_popular = delete_outliers(df_popular, 'KPI')\n",
    "df_mexico, viral_df_mexico = delete_outliers(df_mexico, 'KPI')"
   ]
  },
  {
   "cell_type": "code",
   "execution_count": 24,
   "metadata": {},
   "outputs": [],
   "source": [
    "# Concatenar los dataframes virales\n",
    "df_viral = pd.concat([viral_df_norteno,\n",
    "                      viral_df_popular,\n",
    "                      viral_df_mexico])"
   ]
  },
  {
   "cell_type": "code",
   "execution_count": 25,
   "metadata": {},
   "outputs": [],
   "source": [
    "# Exportar los dataframes a csv\n",
    "df_norteno.to_csv('../Data/Norteno.csv', index=False)\n",
    "df_popular.to_csv('../Data/Popular.csv', index=False)\n",
    "df_mexico.to_csv('../Data/Mexico.csv', index=False)\n",
    "df_viral.to_csv('../Data/Outliers.csv', index=False)"
   ]
  }
 ],
 "metadata": {
  "kernelspec": {
   "display_name": "base",
   "language": "python",
   "name": "python3"
  },
  "language_info": {
   "codemirror_mode": {
    "name": "ipython",
    "version": 3
   },
   "file_extension": ".py",
   "mimetype": "text/x-python",
   "name": "python",
   "nbconvert_exporter": "python",
   "pygments_lexer": "ipython3",
   "version": "3.11.7"
  }
 },
 "nbformat": 4,
 "nbformat_minor": 2
}

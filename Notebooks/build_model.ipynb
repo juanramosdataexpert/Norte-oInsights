{
 "cells": [
  {
   "cell_type": "markdown",
   "metadata": {},
   "source": [
    "# <span style=\"color:#0F19C9\">Contenido</span>\n",
    "\n",
    "- [Importar librerías y archivos](#importar-librerías-y-archivos)\n",
    "- [Preprocesar características](#preprocesar-características)\n",
    "- [Entrenar modelos](#entrenar-modelos)\n",
    "    - [Regresión Lineal](#regresión-lineal)"
   ]
  },
  {
   "cell_type": "markdown",
   "metadata": {},
   "source": [
    "# <span style=\"color:#0F19C9\">Importar librerías y archivos</span>\n",
    "\n",
    "Vamos a importar las librerías para el manejo de dataframes y las correspondientes para construir modelos de Machine Learning. Decidimos no importar el archivo de Outliers para mejorar el entrenamiento del modelo."
   ]
  },
  {
   "cell_type": "code",
   "execution_count": 581,
   "metadata": {},
   "outputs": [],
   "source": [
    "# Importar librerías de manejo de dataframes y visualización\n",
    "import pandas as pd\n",
    "import numpy as np\n",
    "import matplotlib.pyplot as plt\n",
    "from matplotlib.colors import LinearSegmentedColormap\n",
    "\n",
    "# Importar librería de preprocesamiento\n",
    "from sklearn.preprocessing import StandardScaler\n",
    "from sklearn.model_selection import train_test_split\n",
    "\n",
    "# Importar librerías de machine learning\n",
    "from sklearn.linear_model import LinearRegression\n",
    "from sklearn.linear_model import Ridge\n",
    "from sklearn.linear_model import Lasso\n",
    "from sklearn.svm import SVR\n",
    "from sklearn.ensemble import RandomForestRegressor\n",
    "from sklearn.ensemble import GradientBoostingRegressor\n",
    "\n",
    "# Importar librería para evaluación de modelos\n",
    "from sklearn.metrics import mean_squared_error"
   ]
  },
  {
   "cell_type": "code",
   "execution_count": 582,
   "metadata": {},
   "outputs": [],
   "source": [
    "# Importar mi paleta de colores\n",
    "juan_colors = ['#101B4B', '#545E85', '#A3A8B2',\n",
    "               '#E7E7E7', '#0F19C9', '#F6D673']\n",
    "\n",
    "# Crear la paleta de colores personalizada\n",
    "colors = [juan_colors[5], juan_colors[0]]\n",
    "juan_cmap = LinearSegmentedColormap.from_list(\"custom_cmap\", colors)\n",
    "\n",
    "# Configurar la fuente de los gráficos\n",
    "plt.rc('font', family='Georgia', size=12)"
   ]
  },
  {
   "cell_type": "code",
   "execution_count": 583,
   "metadata": {},
   "outputs": [],
   "source": [
    "# Importar los archivos con las publicaciones\n",
    "mexico = pd.read_csv('../Data/Mexico.csv')\n",
    "norteno = pd.read_csv('../Data/Norteno.csv')\n",
    "popular = pd.read_csv('../Data/Popular.csv')"
   ]
  },
  {
   "cell_type": "code",
   "execution_count": 584,
   "metadata": {},
   "outputs": [],
   "source": [
    "# Concatenar los archivos\n",
    "df = pd.concat([mexico,\n",
    "                norteno,\n",
    "                popular])\n",
    "\n",
    "# Borrar dataframes temporales\n",
    "del ([mexico, norteno, popular])"
   ]
  },
  {
   "cell_type": "code",
   "execution_count": 585,
   "metadata": {},
   "outputs": [
    {
     "data": {
      "text/html": [
       "<div>\n",
       "<style scoped>\n",
       "    .dataframe tbody tr th:only-of-type {\n",
       "        vertical-align: middle;\n",
       "    }\n",
       "\n",
       "    .dataframe tbody tr th {\n",
       "        vertical-align: top;\n",
       "    }\n",
       "\n",
       "    .dataframe thead th {\n",
       "        text-align: right;\n",
       "    }\n",
       "</style>\n",
       "<table border=\"1\" class=\"dataframe\">\n",
       "  <thead>\n",
       "    <tr style=\"text-align: right;\">\n",
       "      <th></th>\n",
       "      <th>Artista</th>\n",
       "      <th>Seguidores</th>\n",
       "      <th>Tipo</th>\n",
       "      <th>Fecha y Hora</th>\n",
       "      <th>KPI</th>\n",
       "      <th>Likes</th>\n",
       "      <th>Comentarios</th>\n",
       "      <th>Caption</th>\n",
       "      <th>Palabras en Caption</th>\n",
       "      <th>Número de hashtags</th>\n",
       "      <th>Hashtags</th>\n",
       "    </tr>\n",
       "  </thead>\n",
       "  <tbody>\n",
       "    <tr>\n",
       "      <th>67</th>\n",
       "      <td>Bobby Pulido</td>\n",
       "      <td>162000</td>\n",
       "      <td>Reel</td>\n",
       "      <td>2024-08-16 12:14:41-05:00</td>\n",
       "      <td>1.000000e-03</td>\n",
       "      <td>162</td>\n",
       "      <td>11</td>\n",
       "      <td>🔥 Ya Esta Disponible 😱 #MedleyBobbyPulido con ...</td>\n",
       "      <td>29</td>\n",
       "      <td>2</td>\n",
       "      <td>['#MedleyBobbyPulido', '#ZumbaleCanelo']</td>\n",
       "    </tr>\n",
       "    <tr>\n",
       "      <th>54</th>\n",
       "      <td>Yeison Jiménez</td>\n",
       "      <td>5000000</td>\n",
       "      <td>Foto</td>\n",
       "      <td>2024-09-19 10:11:26-05:00</td>\n",
       "      <td>6.000000e-07</td>\n",
       "      <td>3</td>\n",
       "      <td>40</td>\n",
       "      <td>🔥EL MEJOR 🔥REMIX👌🏻💣🇲🇽🇨🇴 @yeison_jimenez</td>\n",
       "      <td>4</td>\n",
       "      <td>0</td>\n",
       "      <td>[]</td>\n",
       "    </tr>\n",
       "    <tr>\n",
       "      <th>11</th>\n",
       "      <td>Los Tigres del Norte</td>\n",
       "      <td>2000000</td>\n",
       "      <td>Foto</td>\n",
       "      <td>2024-09-15 01:54:35-05:00</td>\n",
       "      <td>1.057250e-02</td>\n",
       "      <td>21145</td>\n",
       "      <td>148</td>\n",
       "      <td>¡Gracias Bogotá! 🇨🇴Tres noches inolvidables en...</td>\n",
       "      <td>44</td>\n",
       "      <td>3</td>\n",
       "      <td>['#AquíMandoYo', '#LTDN', '#ActitudTigres']</td>\n",
       "    </tr>\n",
       "  </tbody>\n",
       "</table>\n",
       "</div>"
      ],
      "text/plain": [
       "                 Artista  Seguidores  Tipo              Fecha y Hora  \\\n",
       "67          Bobby Pulido      162000  Reel 2024-08-16 12:14:41-05:00   \n",
       "54        Yeison Jiménez     5000000  Foto 2024-09-19 10:11:26-05:00   \n",
       "11  Los Tigres del Norte     2000000  Foto 2024-09-15 01:54:35-05:00   \n",
       "\n",
       "             KPI  Likes  Comentarios  \\\n",
       "67  1.000000e-03    162           11   \n",
       "54  6.000000e-07      3           40   \n",
       "11  1.057250e-02  21145          148   \n",
       "\n",
       "                                              Caption  Palabras en Caption  \\\n",
       "67  🔥 Ya Esta Disponible 😱 #MedleyBobbyPulido con ...                   29   \n",
       "54            🔥EL MEJOR 🔥REMIX👌🏻💣🇲🇽🇨🇴 @yeison_jimenez                    4   \n",
       "11  ¡Gracias Bogotá! 🇨🇴Tres noches inolvidables en...                   44   \n",
       "\n",
       "    Número de hashtags                                     Hashtags  \n",
       "67                   2     ['#MedleyBobbyPulido', '#ZumbaleCanelo']  \n",
       "54                   0                                           []  \n",
       "11                   3  ['#AquíMandoYo', '#LTDN', '#ActitudTigres']  "
      ]
     },
     "execution_count": 585,
     "metadata": {},
     "output_type": "execute_result"
    }
   ],
   "source": [
    "# Formatear la columna Fecha y Hora\n",
    "df['Fecha y Hora'] = pd.to_datetime(df['Fecha y Hora'], utc=True)\n",
    "df['Fecha y Hora'] = df['Fecha y Hora'].dt.tz_convert('America/Bogota')\n",
    "\n",
    "# Mostrar 3 registros aleatorios\n",
    "df.sample(3)"
   ]
  },
  {
   "cell_type": "code",
   "execution_count": 586,
   "metadata": {},
   "outputs": [
    {
     "name": "stdout",
     "output_type": "stream",
     "text": [
      "<class 'pandas.core.frame.DataFrame'>\n",
      "Index: 214 entries, 0 to 68\n",
      "Data columns (total 11 columns):\n",
      " #   Column               Non-Null Count  Dtype                         \n",
      "---  ------               --------------  -----                         \n",
      " 0   Artista              214 non-null    object                        \n",
      " 1   Seguidores           214 non-null    int64                         \n",
      " 2   Tipo                 214 non-null    object                        \n",
      " 3   Fecha y Hora         214 non-null    datetime64[ns, America/Bogota]\n",
      " 4   KPI                  214 non-null    float64                       \n",
      " 5   Likes                214 non-null    int64                         \n",
      " 6   Comentarios          214 non-null    int64                         \n",
      " 7   Caption              213 non-null    object                        \n",
      " 8   Palabras en Caption  214 non-null    int64                         \n",
      " 9   Número de hashtags   214 non-null    int64                         \n",
      " 10  Hashtags             214 non-null    object                        \n",
      "dtypes: datetime64[ns, America/Bogota](1), float64(1), int64(5), object(4)\n",
      "memory usage: 20.1+ KB\n"
     ]
    }
   ],
   "source": [
    "# Mostrar la información general del dataframe\n",
    "df.info()"
   ]
  },
  {
   "cell_type": "markdown",
   "metadata": {},
   "source": [
    "# <span style=\"color:#0F19C9\">Preprocesar características</span>\n",
    "\n",
    "Queremos determinar el KPI de las diferentes publicaciones, por lo que construiremos una regresión lineal basándonos en las otras características que podamos crear. La columna objetivo es `KPI`. Sin embargo, la columna `Artista`, `Seguidores`, `Likes`, `Comentarios`, `Caption` y `Hashtags` no las usaremos porque algunas de ellas no las controlamos en una estrategia de publicación y otras porque, como lo vimos en el análisis, como la columna de Comentarios, no nos aporta mayor información al modelo."
   ]
  },
  {
   "cell_type": "code",
   "execution_count": 587,
   "metadata": {},
   "outputs": [
    {
     "data": {
      "text/html": [
       "<div>\n",
       "<style scoped>\n",
       "    .dataframe tbody tr th:only-of-type {\n",
       "        vertical-align: middle;\n",
       "    }\n",
       "\n",
       "    .dataframe tbody tr th {\n",
       "        vertical-align: top;\n",
       "    }\n",
       "\n",
       "    .dataframe thead th {\n",
       "        text-align: right;\n",
       "    }\n",
       "</style>\n",
       "<table border=\"1\" class=\"dataframe\">\n",
       "  <thead>\n",
       "    <tr style=\"text-align: right;\">\n",
       "      <th></th>\n",
       "      <th>Tipo</th>\n",
       "      <th>Fecha y Hora</th>\n",
       "      <th>Palabras en Caption</th>\n",
       "      <th>Número de hashtags</th>\n",
       "      <th>KPI</th>\n",
       "    </tr>\n",
       "  </thead>\n",
       "  <tbody>\n",
       "    <tr>\n",
       "      <th>65</th>\n",
       "      <td>Reel</td>\n",
       "      <td>2024-08-24 21:27:10-05:00</td>\n",
       "      <td>46</td>\n",
       "      <td>5</td>\n",
       "      <td>0.003312</td>\n",
       "    </tr>\n",
       "    <tr>\n",
       "      <th>12</th>\n",
       "      <td>Reel</td>\n",
       "      <td>2024-08-21 18:12:57-05:00</td>\n",
       "      <td>26</td>\n",
       "      <td>2</td>\n",
       "      <td>0.017619</td>\n",
       "    </tr>\n",
       "    <tr>\n",
       "      <th>62</th>\n",
       "      <td>Foto</td>\n",
       "      <td>2024-09-10 18:43:35-05:00</td>\n",
       "      <td>8</td>\n",
       "      <td>0</td>\n",
       "      <td>0.003425</td>\n",
       "    </tr>\n",
       "  </tbody>\n",
       "</table>\n",
       "</div>"
      ],
      "text/plain": [
       "    Tipo              Fecha y Hora  Palabras en Caption  Número de hashtags  \\\n",
       "65  Reel 2024-08-24 21:27:10-05:00                   46                   5   \n",
       "12  Reel 2024-08-21 18:12:57-05:00                   26                   2   \n",
       "62  Foto 2024-09-10 18:43:35-05:00                    8                   0   \n",
       "\n",
       "         KPI  \n",
       "65  0.003312  \n",
       "12  0.017619  \n",
       "62  0.003425  "
      ]
     },
     "execution_count": 587,
     "metadata": {},
     "output_type": "execute_result"
    }
   ],
   "source": [
    "# Eliminar columnas innecesarias para el modelo\n",
    "df = df[['Tipo', 'Fecha y Hora', 'Palabras en Caption', 'Número de hashtags', 'KPI']]\n",
    "df.sample(3)"
   ]
  },
  {
   "cell_type": "code",
   "execution_count": 588,
   "metadata": {},
   "outputs": [],
   "source": [
    "# Crear One-Hot Encoder con la columna Tipo\n",
    "df = pd.concat([df,\n",
    "                pd.get_dummies(df['Tipo'], prefix='Tipo',\n",
    "                               drop_first=True, dtype=int)], axis=1)\n",
    "df.drop('Tipo', axis=1, inplace=True)"
   ]
  },
  {
   "cell_type": "code",
   "execution_count": 589,
   "metadata": {},
   "outputs": [],
   "source": [
    "# Extraer información de la columna Fecha y Hora\n",
    "df['Día de la publicación'] = df['Fecha y Hora'].dt.day\n",
    "df['Día de la semana'] = df['Fecha y Hora'].dt.dayofweek\n",
    "df['Hora de publicación'] = df['Fecha y Hora'].dt.hour\n",
    "df.drop('Fecha y Hora', axis=1, inplace=True)"
   ]
  },
  {
   "cell_type": "code",
   "execution_count": 590,
   "metadata": {},
   "outputs": [],
   "source": [
    "# Organizar las columnas\n",
    "df = df[['Palabras en Caption', 'Número de hashtags', 'Tipo_Foto',\n",
    "         'Tipo_Reel', 'Tipo_Video', 'Día de la publicación', 'Día de la semana',\n",
    "         'Hora de publicación', 'KPI']]\n",
    "\n",
    "# Separar los datos en entrenamiento y validación\n",
    "train_df, test_df = train_test_split(df, test_size=0.2)\n",
    "\n",
    "# Separar características\n",
    "target = 'KPI'\n",
    "categories = ['Tipo_Foto', 'Tipo_Reel', 'Tipo_Video']\n",
    "features = [column for column in df.columns if (\n",
    "    column not in target) and (column not in categories)]"
   ]
  },
  {
   "cell_type": "code",
   "execution_count": 591,
   "metadata": {},
   "outputs": [
    {
     "data": {
      "text/html": [
       "<div>\n",
       "<style scoped>\n",
       "    .dataframe tbody tr th:only-of-type {\n",
       "        vertical-align: middle;\n",
       "    }\n",
       "\n",
       "    .dataframe tbody tr th {\n",
       "        vertical-align: top;\n",
       "    }\n",
       "\n",
       "    .dataframe thead th {\n",
       "        text-align: right;\n",
       "    }\n",
       "</style>\n",
       "<table border=\"1\" class=\"dataframe\">\n",
       "  <thead>\n",
       "    <tr style=\"text-align: right;\">\n",
       "      <th></th>\n",
       "      <th>Palabras en Caption</th>\n",
       "      <th>Número de hashtags</th>\n",
       "      <th>Tipo_Foto</th>\n",
       "      <th>Tipo_Reel</th>\n",
       "      <th>Tipo_Video</th>\n",
       "      <th>Día de la publicación</th>\n",
       "      <th>Día de la semana</th>\n",
       "      <th>Hora de publicación</th>\n",
       "      <th>KPI</th>\n",
       "    </tr>\n",
       "  </thead>\n",
       "  <tbody>\n",
       "    <tr>\n",
       "      <th>35</th>\n",
       "      <td>1.547881</td>\n",
       "      <td>-0.655877</td>\n",
       "      <td>0</td>\n",
       "      <td>0</td>\n",
       "      <td>0</td>\n",
       "      <td>-1.861437</td>\n",
       "      <td>-1.569560</td>\n",
       "      <td>-0.526447</td>\n",
       "      <td>0.000535</td>\n",
       "    </tr>\n",
       "    <tr>\n",
       "      <th>5</th>\n",
       "      <td>-0.547272</td>\n",
       "      <td>-0.655877</td>\n",
       "      <td>1</td>\n",
       "      <td>0</td>\n",
       "      <td>0</td>\n",
       "      <td>0.159980</td>\n",
       "      <td>-1.015025</td>\n",
       "      <td>0.837530</td>\n",
       "      <td>0.002710</td>\n",
       "    </tr>\n",
       "    <tr>\n",
       "      <th>1</th>\n",
       "      <td>-1.046118</td>\n",
       "      <td>-0.439779</td>\n",
       "      <td>0</td>\n",
       "      <td>0</td>\n",
       "      <td>0</td>\n",
       "      <td>0.429502</td>\n",
       "      <td>0.094044</td>\n",
       "      <td>-1.111009</td>\n",
       "      <td>0.001649</td>\n",
       "    </tr>\n",
       "  </tbody>\n",
       "</table>\n",
       "</div>"
      ],
      "text/plain": [
       "    Palabras en Caption  Número de hashtags  Tipo_Foto  Tipo_Reel  Tipo_Video  \\\n",
       "35             1.547881           -0.655877          0          0           0   \n",
       "5             -0.547272           -0.655877          1          0           0   \n",
       "1             -1.046118           -0.439779          0          0           0   \n",
       "\n",
       "    Día de la publicación  Día de la semana  Hora de publicación       KPI  \n",
       "35              -1.861437         -1.569560            -0.526447  0.000535  \n",
       "5                0.159980         -1.015025             0.837530  0.002710  \n",
       "1                0.429502          0.094044            -1.111009  0.001649  "
      ]
     },
     "execution_count": 591,
     "metadata": {},
     "output_type": "execute_result"
    }
   ],
   "source": [
    "# Estandarizar las columnas\n",
    "scaler = StandardScaler()\n",
    "train_df[features] = scaler.fit_transform(train_df[features])\n",
    "test_df[features] = scaler.transform(test_df[features])\n",
    "\n",
    "# Mostrar 3 registros aleatorios de entrenamiento\n",
    "train_df.sample(3)"
   ]
  },
  {
   "cell_type": "markdown",
   "metadata": {},
   "source": [
    "Una vez establecimos las columnas importantes para nuestro contenido, extraemos la mayor cantidad de información de ellas y finalmente las estandarizamos para que ninguna de ellas represente un sesgo para nuestro modelo."
   ]
  },
  {
   "cell_type": "markdown",
   "metadata": {},
   "source": [
    "# <span style=\"color:#0F19C9\">Entrenar modelos</span>"
   ]
  },
  {
   "cell_type": "code",
   "execution_count": 592,
   "metadata": {},
   "outputs": [],
   "source": [
    "# Crear diccionario de métricas\n",
    "models = {}"
   ]
  },
  {
   "cell_type": "markdown",
   "metadata": {},
   "source": [
    "## <span style=\"color:#0F19C9\">Regresión Lineal</span>"
   ]
  },
  {
   "cell_type": "code",
   "execution_count": 593,
   "metadata": {},
   "outputs": [
    {
     "name": "stdout",
     "output_type": "stream",
     "text": [
      "El RMSE en el modelo de Regresión Lineal es: 0.004225451542867046\n"
     ]
    }
   ],
   "source": [
    "# Entrenar modelo de Regresión Lineal\n",
    "model_1 = LinearRegression()\n",
    "model_1.fit(train_df[features + categories], train_df[target])\n",
    "\n",
    "# Evaluar el modelo\n",
    "predictions = model_1.predict(test_df[features + categories])\n",
    "models['Regresión Lineal'] = mean_squared_error(\n",
    "    predictions, test_df[target])**0.5\n",
    "print('El RMSE en el modelo de Regresión Lineal es:',\n",
    "      models['Regresión Lineal'])"
   ]
  },
  {
   "cell_type": "markdown",
   "metadata": {},
   "source": [
    "## <span style=\"color:#0F19C9\">Ridge</span>"
   ]
  },
  {
   "cell_type": "code",
   "execution_count": 594,
   "metadata": {},
   "outputs": [
    {
     "name": "stdout",
     "output_type": "stream",
     "text": [
      "El RMSE en el modelo de Ridge es: 0.004225370277329936\n"
     ]
    }
   ],
   "source": [
    "# Entrenar modelo de Ridge\n",
    "model_2 = Ridge(alpha=1.0)\n",
    "model_2.fit(train_df[features + categories], train_df[target])\n",
    "\n",
    "# Evaluar el modelo\n",
    "predictions = model_2.predict(test_df[features + categories])\n",
    "models['Ridge'] = mean_squared_error(predictions, test_df[target])**0.5\n",
    "print('El RMSE en el modelo de Ridge es:', models['Ridge'])"
   ]
  },
  {
   "cell_type": "markdown",
   "metadata": {},
   "source": [
    "## <span style=\"color:#0F19C9\">Lasso</span>"
   ]
  },
  {
   "cell_type": "code",
   "execution_count": 595,
   "metadata": {},
   "outputs": [
    {
     "name": "stdout",
     "output_type": "stream",
     "text": [
      "El RMSE en el modelo de Lasso es: 0.004225435616453748\n"
     ]
    }
   ],
   "source": [
    "# Entrenar modelo de Lasso\n",
    "model_3 = Ridge(alpha=0.1)\n",
    "model_3.fit(train_df[features + categories], train_df[target])\n",
    "\n",
    "# Evaluar el modelo\n",
    "predictions = model_3.predict(test_df[features + categories])\n",
    "models['Lasso'] = mean_squared_error(predictions, test_df[target])**0.5\n",
    "print('El RMSE en el modelo de Lasso es:', models['Lasso'])"
   ]
  },
  {
   "cell_type": "markdown",
   "metadata": {},
   "source": [
    "## <span style=\"color:#0F19C9\">Regresión de Soporte de Vectores</span>"
   ]
  },
  {
   "cell_type": "code",
   "execution_count": 596,
   "metadata": {},
   "outputs": [
    {
     "name": "stdout",
     "output_type": "stream",
     "text": [
      "El RMSE en el modelo de Regresión de Soporte de Vectores es: 0.007107101247482309\n"
     ]
    }
   ],
   "source": [
    "# Entrenar modelo de Regresión de Soporte de Vectores\n",
    "model_4 = SVR(kernel='rbf')\n",
    "model_4.fit(train_df[features + categories], train_df[target])\n",
    "\n",
    "# Evaluar el modelo\n",
    "predictions = model_4.predict(test_df[features + categories])\n",
    "models['Regresión de Soporte de Vectores'] = mean_squared_error(\n",
    "    predictions, test_df[target])**0.5\n",
    "print('El RMSE en el modelo de Regresión de Soporte de Vectores es:',\n",
    "      models['Regresión de Soporte de Vectores'])"
   ]
  },
  {
   "cell_type": "markdown",
   "metadata": {},
   "source": [
    "## <span style=\"color:#0F19C9\">Regresión de Bosque Aleatorio</span>"
   ]
  },
  {
   "cell_type": "code",
   "execution_count": 597,
   "metadata": {},
   "outputs": [
    {
     "name": "stdout",
     "output_type": "stream",
     "text": [
      "El RMSE en el modelo de Regresión de Bosque Aleatorio es: 0.00462379506341518\n"
     ]
    }
   ],
   "source": [
    "# Entrenar modelo de Regresión de Bosque Aleatorio\n",
    "model_5 = RandomForestRegressor()\n",
    "model_5.fit(train_df[features + categories], train_df[target])\n",
    "\n",
    "# Evaluar el modelo\n",
    "predictions = model_5.predict(test_df[features + categories])\n",
    "models['Regresión de Bosque Aleatorio'] = mean_squared_error(\n",
    "    predictions, test_df[target])**0.5\n",
    "print('El RMSE en el modelo de Regresión de Bosque Aleatorio es:',\n",
    "      models['Regresión de Bosque Aleatorio'])"
   ]
  },
  {
   "cell_type": "markdown",
   "metadata": {},
   "source": [
    "## <span style=\"color:#0F19C9\">Regresión de Gradiente</span>"
   ]
  },
  {
   "cell_type": "code",
   "execution_count": 598,
   "metadata": {},
   "outputs": [
    {
     "name": "stdout",
     "output_type": "stream",
     "text": [
      "El RMSE en el modelo de Regresión de Gradiente es: 0.004594978433257384\n"
     ]
    }
   ],
   "source": [
    "# Entrenar modelo de Regresión de Gradiente\n",
    "model_6 = GradientBoostingRegressor()\n",
    "model_6.fit(train_df[features + categories], train_df[target])\n",
    "\n",
    "# Evaluar el modelo\n",
    "predictions = model_6.predict(test_df[features + categories])\n",
    "models['Regresión de Gradiente'] = mean_squared_error(\n",
    "    predictions, test_df[target])**0.5\n",
    "print('El RMSE en el modelo de Regresión de Gradiente es:',\n",
    "      models['Regresión de Gradiente'])"
   ]
  },
  {
   "cell_type": "markdown",
   "metadata": {},
   "source": [
    "# <span style=\"color:#0F19C9\">Evaluar modelos</span>"
   ]
  },
  {
   "cell_type": "code",
   "execution_count": 599,
   "metadata": {},
   "outputs": [
    {
     "name": "stderr",
     "output_type": "stream",
     "text": [
      "C:\\Users\\juanp\\AppData\\Local\\Temp\\ipykernel_30140\\3811565912.py:14: UserWarning: set_ticklabels() should only be used with a fixed number of ticks, i.e. after set_ticks() or using a FixedLocator.\n",
      "  ax.set_yticklabels(list(models.keys()),\n"
     ]
    },
    {
     "data": {
      "image/png": "[encoded data removed]",
      "text/plain": [
       "<Figure size 1200x400 with 1 Axes>"
      ]
     },
     "metadata": {},
     "output_type": "display_data"
    },
    {
     "name": "stdout",
     "output_type": "stream",
     "text": [
      "El mejor modelo fue el Ridge que tuvo un RMSE de 0.004225370277329936\n"
     ]
    }
   ],
   "source": [
    "# Hacer gráfica de métricas de modelos\n",
    "fig, ax = plt.subplots(figsize=[12, 4])\n",
    "plt.text(x=-0.0024, y=-3,\n",
    "         s='Gráfica 1')\n",
    "plt.title('Tenemos tres modelos con métrica muy similar',\n",
    "          weight='bold', size=22,\n",
    "          x=0.08, y=1.2, color=juan_colors[0])\n",
    "plt.suptitle('RMSE de cada modelo entrenado',\n",
    "             x=0, y=1)\n",
    "plt.barh(y=list(models.keys()),\n",
    "         width=list(models.values()),\n",
    "         color=juan_colors[0],\n",
    "         zorder=2)\n",
    "ax.set_yticklabels(list(models.keys()),\n",
    "                   ha='left',\n",
    "                   x=-.27)\n",
    "plt.grid(axis='x', alpha=0.7,\n",
    "         zorder=1)\n",
    "ax.spines[['top', 'bottom', 'right']].set_visible(False)\n",
    "plt.gca().invert_yaxis()\n",
    "plt.show()\n",
    "\n",
    "# Identificar el mejor modelo\n",
    "best_model = min(models, key=models.get)\n",
    "print(\n",
    "    f'El mejor modelo fue el {best_model} que tuvo un RMSE de {models[best_model]}')"
   ]
  },
  {
   "cell_type": "code",
   "execution_count": 600,
   "metadata": {},
   "outputs": [
    {
     "data": {
      "text/html": [
       "<div>\n",
       "<style scoped>\n",
       "    .dataframe tbody tr th:only-of-type {\n",
       "        vertical-align: middle;\n",
       "    }\n",
       "\n",
       "    .dataframe tbody tr th {\n",
       "        vertical-align: top;\n",
       "    }\n",
       "\n",
       "    .dataframe thead th {\n",
       "        text-align: right;\n",
       "    }\n",
       "</style>\n",
       "<table border=\"1\" class=\"dataframe\">\n",
       "  <thead>\n",
       "    <tr style=\"text-align: right;\">\n",
       "      <th></th>\n",
       "      <th>Característica</th>\n",
       "      <th>Coeficiente</th>\n",
       "    </tr>\n",
       "  </thead>\n",
       "  <tbody>\n",
       "    <tr>\n",
       "      <th>4</th>\n",
       "      <td>Hora de publicación</td>\n",
       "      <td>0.000373</td>\n",
       "    </tr>\n",
       "    <tr>\n",
       "      <th>1</th>\n",
       "      <td>Número de hashtags</td>\n",
       "      <td>0.000347</td>\n",
       "    </tr>\n",
       "    <tr>\n",
       "      <th>5</th>\n",
       "      <td>Tipo_Foto</td>\n",
       "      <td>0.000299</td>\n",
       "    </tr>\n",
       "    <tr>\n",
       "      <th>2</th>\n",
       "      <td>Día de la publicación</td>\n",
       "      <td>-0.000213</td>\n",
       "    </tr>\n",
       "    <tr>\n",
       "      <th>0</th>\n",
       "      <td>Palabras en Caption</td>\n",
       "      <td>0.000173</td>\n",
       "    </tr>\n",
       "    <tr>\n",
       "      <th>6</th>\n",
       "      <td>Tipo_Reel</td>\n",
       "      <td>0.000159</td>\n",
       "    </tr>\n",
       "    <tr>\n",
       "      <th>3</th>\n",
       "      <td>Día de la semana</td>\n",
       "      <td>0.000048</td>\n",
       "    </tr>\n",
       "    <tr>\n",
       "      <th>7</th>\n",
       "      <td>Tipo_Video</td>\n",
       "      <td>0.000000</td>\n",
       "    </tr>\n",
       "  </tbody>\n",
       "</table>\n",
       "</div>"
      ],
      "text/plain": [
       "          Característica  Coeficiente\n",
       "4    Hora de publicación     0.000373\n",
       "1     Número de hashtags     0.000347\n",
       "5              Tipo_Foto     0.000299\n",
       "2  Día de la publicación    -0.000213\n",
       "0    Palabras en Caption     0.000173\n",
       "6              Tipo_Reel     0.000159\n",
       "3       Día de la semana     0.000048\n",
       "7             Tipo_Video     0.000000"
      ]
     },
     "execution_count": 600,
     "metadata": {},
     "output_type": "execute_result"
    }
   ],
   "source": [
    "# Encontrar coeficientes del modelo\n",
    "coeficientes = pd.DataFrame({\n",
    "    'Característica': model_2.feature_names_in_,\n",
    "    'Coeficiente': model_2.coef_\n",
    "})\n",
    "\n",
    "# Ordenar por valor absoluto\n",
    "coeficientes['Absoluto'] = np.abs(coeficientes['Coeficiente'])\n",
    "coeficientes.sort_values('Absoluto', ascending=False, inplace=True)\n",
    "coeficientes.drop(columns='Absoluto', inplace=True)\n",
    "coeficientes"
   ]
  },
  {
   "cell_type": "code",
   "execution_count": 640,
   "metadata": {},
   "outputs": [
    {
     "name": "stderr",
     "output_type": "stream",
     "text": [
      "C:\\Users\\juanp\\AppData\\Local\\Temp\\ipykernel_30140\\3350368762.py:14: UserWarning: set_ticklabels() should only be used with a fixed number of ticks, i.e. after set_ticks() or using a FixedLocator.\n",
      "  ax.set_yticklabels(coeficientes['Característica'],\n"
     ]
    },
    {
     "data": {
      "image/png": "[encoded data removed]",
      "text/plain": [
       "<Figure size 1200x400 with 1 Axes>"
      ]
     },
     "metadata": {},
     "output_type": "display_data"
    }
   ],
   "source": [
    "# Hacer gráfica de coeficientes del modelo\n",
    "fig, ax = plt.subplots(figsize=[12, 4])\n",
    "plt.text(x=-0.000405, y=-4.8, ha='left',\n",
    "         s='Gráfica 2')\n",
    "plt.title('El mayor peso en el KPI lo ejercen la hora de publicación y la cantidad \\nde hashtags',\n",
    "          weight='bold', size=22, ha='left',\n",
    "          x=-0.25, y=1.2, color=juan_colors[0])\n",
    "plt.suptitle('Peso de cada característica en el modelo Ridge',\n",
    "             x=0.1, y=1)\n",
    "plt.barh(y=coeficientes['Característica'],\n",
    "         width=coeficientes['Coeficiente'],\n",
    "         color=juan_colors[0],\n",
    "         zorder=2)\n",
    "ax.set_yticklabels(coeficientes['Característica'],\n",
    "                   ha='left',\n",
    "                   x=-.18)\n",
    "plt.grid(axis='x', alpha=0.7,\n",
    "         zorder=1)\n",
    "ax.spines[['top', 'bottom', 'right']].set_visible(False)\n",
    "plt.gca().invert_yaxis()\n",
    "plt.show()"
   ]
  },
  {
   "cell_type": "markdown",
   "metadata": {},
   "source": [
    "Podemos entonces concluir, a partir de la evaluación con la métrica de la Raíz del Error Cuadrático Medio, donde el mejor modelo resulta ser el menor valor de error, el mejor modelo es el llamado Ridge con un valor de RMSE de 0.00456.\n",
    "\n",
    "De este modelo, y más específicamente de sus coeficientes, podemos ver que las dos principales características positivas y con gran fuerza son la hora de publicación y el número de hashtags. Es decir, pareciera ser que, entre más tarde se publique y con más número de hashtags, el KPI tiende a ser mayor."
   ]
  }
 ],
 "metadata": {
  "kernelspec": {
   "display_name": "base",
   "language": "python",
   "name": "python3"
  },
  "language_info": {
   "codemirror_mode": {
    "name": "ipython",
    "version": 3
   },
   "file_extension": ".py",
   "mimetype": "text/x-python",
   "name": "python",
   "nbconvert_exporter": "python",
   "pygments_lexer": "ipython3",
   "version": "3.11.7"
  }
 },
 "nbformat": 4,
 "nbformat_minor": 2
}
